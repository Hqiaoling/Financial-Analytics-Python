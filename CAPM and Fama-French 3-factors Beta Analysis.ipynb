{
  "nbformat": 4,
  "nbformat_minor": 0,
  "metadata": {
    "colab": {
      "name": "My Version.ipynb",
      "provenance": [],
      "collapsed_sections": []
    },
    "kernelspec": {
      "name": "python3",
      "display_name": "Python 3"
    },
    "accelerator": "GPU"
  },
  "cells": [
    {
      "cell_type": "markdown",
      "metadata": {
        "id": "7wwrSYLhYXGi",
        "colab_type": "text"
      },
      "source": [
        "# BA 870 Assignment 4\n",
        "Cohort A: \n",
        "\n",
        "Qiaoling Huang: qiaoling@bu.edu\n",
        "\n",
        "Shihan Li: shihanli@bu.edu\n",
        "\n",
        "Ziqin Ma: ziqinm@bu.edu\n",
        "\n",
        "Chenran Peng: cpeng3@bu.edu\n",
        "\n",
        "Elmira Ushirova: elu@bu.edu"
      ]
    },
    {
      "cell_type": "markdown",
      "metadata": {
        "id": "NaKm1xjPhNVy",
        "colab_type": "text"
      },
      "source": [
        "## Apply two models on given companies\n",
        "\n",
        "Before running this colab notebook, we have downloaded the required data from WRDS and examined those. To get starter, we uploaded them:"
      ]
    },
    {
      "cell_type": "code",
      "metadata": {
        "id": "wJ89kmmYonbq",
        "colab_type": "code",
        "outputId": "3ac7c693-7179-4213-a19d-38b25e76a13e",
        "colab": {
          "resources": {
            "http://localhost:8080/nbextensions/google.colab/files.js": {
              "data": "Ly8gQ29weXJpZ2h0IDIwMTcgR29vZ2xlIExMQwovLwovLyBMaWNlbnNlZCB1bmRlciB0aGUgQXBhY2hlIExpY2Vuc2UsIFZlcnNpb24gMi4wICh0aGUgIkxpY2Vuc2UiKTsKLy8geW91IG1heSBub3QgdXNlIHRoaXMgZmlsZSBleGNlcHQgaW4gY29tcGxpYW5jZSB3aXRoIHRoZSBMaWNlbnNlLgovLyBZb3UgbWF5IG9idGFpbiBhIGNvcHkgb2YgdGhlIExpY2Vuc2UgYXQKLy8KLy8gICAgICBodHRwOi8vd3d3LmFwYWNoZS5vcmcvbGljZW5zZXMvTElDRU5TRS0yLjAKLy8KLy8gVW5sZXNzIHJlcXVpcmVkIGJ5IGFwcGxpY2FibGUgbGF3IG9yIGFncmVlZCB0byBpbiB3cml0aW5nLCBzb2Z0d2FyZQovLyBkaXN0cmlidXRlZCB1bmRlciB0aGUgTGljZW5zZSBpcyBkaXN0cmlidXRlZCBvbiBhbiAiQVMgSVMiIEJBU0lTLAovLyBXSVRIT1VUIFdBUlJBTlRJRVMgT1IgQ09ORElUSU9OUyBPRiBBTlkgS0lORCwgZWl0aGVyIGV4cHJlc3Mgb3IgaW1wbGllZC4KLy8gU2VlIHRoZSBMaWNlbnNlIGZvciB0aGUgc3BlY2lmaWMgbGFuZ3VhZ2UgZ292ZXJuaW5nIHBlcm1pc3Npb25zIGFuZAovLyBsaW1pdGF0aW9ucyB1bmRlciB0aGUgTGljZW5zZS4KCi8qKgogKiBAZmlsZW92ZXJ2aWV3IEhlbHBlcnMgZm9yIGdvb2dsZS5jb2xhYiBQeXRob24gbW9kdWxlLgogKi8KKGZ1bmN0aW9uKHNjb3BlKSB7CmZ1bmN0aW9uIHNwYW4odGV4dCwgc3R5bGVBdHRyaWJ1dGVzID0ge30pIHsKICBjb25zdCBlbGVtZW50ID0gZG9jdW1lbnQuY3JlYXRlRWxlbWVudCgnc3BhbicpOwogIGVsZW1lbnQudGV4dENvbnRlbnQgPSB0ZXh0OwogIGZvciAoY29uc3Qga2V5IG9mIE9iamVjdC5rZXlzKHN0eWxlQXR0cmlidXRlcykpIHsKICAgIGVsZW1lbnQuc3R5bGVba2V5XSA9IHN0eWxlQXR0cmlidXRlc1trZXldOwogIH0KICByZXR1cm4gZWxlbWVudDsKfQoKLy8gTWF4IG51bWJlciBvZiBieXRlcyB3aGljaCB3aWxsIGJlIHVwbG9hZGVkIGF0IGEgdGltZS4KY29uc3QgTUFYX1BBWUxPQURfU0laRSA9IDEwMCAqIDEwMjQ7Ci8vIE1heCBhbW91bnQgb2YgdGltZSB0byBibG9jayB3YWl0aW5nIGZvciB0aGUgdXNlci4KY29uc3QgRklMRV9DSEFOR0VfVElNRU9VVF9NUyA9IDMwICogMTAwMDsKCmZ1bmN0aW9uIF91cGxvYWRGaWxlcyhpbnB1dElkLCBvdXRwdXRJZCkgewogIGNvbnN0IHN0ZXBzID0gdXBsb2FkRmlsZXNTdGVwKGlucHV0SWQsIG91dHB1dElkKTsKICBjb25zdCBvdXRwdXRFbGVtZW50ID0gZG9jdW1lbnQuZ2V0RWxlbWVudEJ5SWQob3V0cHV0SWQpOwogIC8vIENhY2hlIHN0ZXBzIG9uIHRoZSBvdXRwdXRFbGVtZW50IHRvIG1ha2UgaXQgYXZhaWxhYmxlIGZvciB0aGUgbmV4dCBjYWxsCiAgLy8gdG8gdXBsb2FkRmlsZXNDb250aW51ZSBmcm9tIFB5dGhvbi4KICBvdXRwdXRFbGVtZW50LnN0ZXBzID0gc3RlcHM7CgogIHJldHVybiBfdXBsb2FkRmlsZXNDb250aW51ZShvdXRwdXRJZCk7Cn0KCi8vIFRoaXMgaXMgcm91Z2hseSBhbiBhc3luYyBnZW5lcmF0b3IgKG5vdCBzdXBwb3J0ZWQgaW4gdGhlIGJyb3dzZXIgeWV0KSwKLy8gd2hlcmUgdGhlcmUgYXJlIG11bHRpcGxlIGFzeW5jaHJvbm91cyBzdGVwcyBhbmQgdGhlIFB5dGhvbiBzaWRlIGlzIGdvaW5nCi8vIHRvIHBvbGwgZm9yIGNvbXBsZXRpb24gb2YgZWFjaCBzdGVwLgovLyBUaGlzIHVzZXMgYSBQcm9taXNlIHRvIGJsb2NrIHRoZSBweXRob24gc2lkZSBvbiBjb21wbGV0aW9uIG9mIGVhY2ggc3RlcCwKLy8gdGhlbiBwYXNzZXMgdGhlIHJlc3VsdCBvZiB0aGUgcHJldmlvdXMgc3RlcCBhcyB0aGUgaW5wdXQgdG8gdGhlIG5leHQgc3RlcC4KZnVuY3Rpb24gX3VwbG9hZEZpbGVzQ29udGludWUob3V0cHV0SWQpIHsKICBjb25zdCBvdXRwdXRFbGVtZW50ID0gZG9jdW1lbnQuZ2V0RWxlbWVudEJ5SWQob3V0cHV0SWQpOwogIGNvbnN0IHN0ZXBzID0gb3V0cHV0RWxlbWVudC5zdGVwczsKCiAgY29uc3QgbmV4dCA9IHN0ZXBzLm5leHQob3V0cHV0RWxlbWVudC5sYXN0UHJvbWlzZVZhbHVlKTsKICByZXR1cm4gUHJvbWlzZS5yZXNvbHZlKG5leHQudmFsdWUucHJvbWlzZSkudGhlbigodmFsdWUpID0+IHsKICAgIC8vIENhY2hlIHRoZSBsYXN0IHByb21pc2UgdmFsdWUgdG8gbWFrZSBpdCBhdmFpbGFibGUgdG8gdGhlIG5leHQKICAgIC8vIHN0ZXAgb2YgdGhlIGdlbmVyYXRvci4KICAgIG91dHB1dEVsZW1lbnQubGFzdFByb21pc2VWYWx1ZSA9IHZhbHVlOwogICAgcmV0dXJuIG5leHQudmFsdWUucmVzcG9uc2U7CiAgfSk7Cn0KCi8qKgogKiBHZW5lcmF0b3IgZnVuY3Rpb24gd2hpY2ggaXMgY2FsbGVkIGJldHdlZW4gZWFjaCBhc3luYyBzdGVwIG9mIHRoZSB1cGxvYWQKICogcHJvY2Vzcy4KICogQHBhcmFtIHtzdHJpbmd9IGlucHV0SWQgRWxlbWVudCBJRCBvZiB0aGUgaW5wdXQgZmlsZSBwaWNrZXIgZWxlbWVudC4KICogQHBhcmFtIHtzdHJpbmd9IG91dHB1dElkIEVsZW1lbnQgSUQgb2YgdGhlIG91dHB1dCBkaXNwbGF5LgogKiBAcmV0dXJuIHshSXRlcmFibGU8IU9iamVjdD59IEl0ZXJhYmxlIG9mIG5leHQgc3RlcHMuCiAqLwpmdW5jdGlvbiogdXBsb2FkRmlsZXNTdGVwKGlucHV0SWQsIG91dHB1dElkKSB7CiAgY29uc3QgaW5wdXRFbGVtZW50ID0gZG9jdW1lbnQuZ2V0RWxlbWVudEJ5SWQoaW5wdXRJZCk7CiAgaW5wdXRFbGVtZW50LmRpc2FibGVkID0gZmFsc2U7CgogIGNvbnN0IG91dHB1dEVsZW1lbnQgPSBkb2N1bWVudC5nZXRFbGVtZW50QnlJZChvdXRwdXRJZCk7CiAgb3V0cHV0RWxlbWVudC5pbm5lckhUTUwgPSAnJzsKCiAgY29uc3QgcGlja2VkUHJvbWlzZSA9IG5ldyBQcm9taXNlKChyZXNvbHZlKSA9PiB7CiAgICBpbnB1dEVsZW1lbnQuYWRkRXZlbnRMaXN0ZW5lcignY2hhbmdlJywgKGUpID0+IHsKICAgICAgcmVzb2x2ZShlLnRhcmdldC5maWxlcyk7CiAgICB9KTsKICB9KTsKCiAgY29uc3QgY2FuY2VsID0gZG9jdW1lbnQuY3JlYXRlRWxlbWVudCgnYnV0dG9uJyk7CiAgaW5wdXRFbGVtZW50LnBhcmVudEVsZW1lbnQuYXBwZW5kQ2hpbGQoY2FuY2VsKTsKICBjYW5jZWwudGV4dENvbnRlbnQgPSAnQ2FuY2VsIHVwbG9hZCc7CiAgY29uc3QgY2FuY2VsUHJvbWlzZSA9IG5ldyBQcm9taXNlKChyZXNvbHZlKSA9PiB7CiAgICBjYW5jZWwub25jbGljayA9ICgpID0+IHsKICAgICAgcmVzb2x2ZShudWxsKTsKICAgIH07CiAgfSk7CgogIC8vIENhbmNlbCB1cGxvYWQgaWYgdXNlciBoYXNuJ3QgcGlja2VkIGFueXRoaW5nIGluIHRpbWVvdXQuCiAgY29uc3QgdGltZW91dFByb21pc2UgPSBuZXcgUHJvbWlzZSgocmVzb2x2ZSkgPT4gewogICAgc2V0VGltZW91dCgoKSA9PiB7CiAgICAgIHJlc29sdmUobnVsbCk7CiAgICB9LCBGSUxFX0NIQU5HRV9USU1FT1VUX01TKTsKICB9KTsKCiAgLy8gV2FpdCBmb3IgdGhlIHVzZXIgdG8gcGljayB0aGUgZmlsZXMuCiAgY29uc3QgZmlsZXMgPSB5aWVsZCB7CiAgICBwcm9taXNlOiBQcm9taXNlLnJhY2UoW3BpY2tlZFByb21pc2UsIHRpbWVvdXRQcm9taXNlLCBjYW5jZWxQcm9taXNlXSksCiAgICByZXNwb25zZTogewogICAgICBhY3Rpb246ICdzdGFydGluZycsCiAgICB9CiAgfTsKCiAgaWYgKCFmaWxlcykgewogICAgcmV0dXJuIHsKICAgICAgcmVzcG9uc2U6IHsKICAgICAgICBhY3Rpb246ICdjb21wbGV0ZScsCiAgICAgIH0KICAgIH07CiAgfQoKICBjYW5jZWwucmVtb3ZlKCk7CgogIC8vIERpc2FibGUgdGhlIGlucHV0IGVsZW1lbnQgc2luY2UgZnVydGhlciBwaWNrcyBhcmUgbm90IGFsbG93ZWQuCiAgaW5wdXRFbGVtZW50LmRpc2FibGVkID0gdHJ1ZTsKCiAgZm9yIChjb25zdCBmaWxlIG9mIGZpbGVzKSB7CiAgICBjb25zdCBsaSA9IGRvY3VtZW50LmNyZWF0ZUVsZW1lbnQoJ2xpJyk7CiAgICBsaS5hcHBlbmQoc3BhbihmaWxlLm5hbWUsIHtmb250V2VpZ2h0OiAnYm9sZCd9KSk7CiAgICBsaS5hcHBlbmQoc3BhbigKICAgICAgICBgKCR7ZmlsZS50eXBlIHx8ICduL2EnfSkgLSAke2ZpbGUuc2l6ZX0gYnl0ZXMsIGAgKwogICAgICAgIGBsYXN0IG1vZGlmaWVkOiAkewogICAgICAgICAgICBmaWxlLmxhc3RNb2RpZmllZERhdGUgPyBmaWxlLmxhc3RNb2RpZmllZERhdGUudG9Mb2NhbGVEYXRlU3RyaW5nKCkgOgogICAgICAgICAgICAgICAgICAgICAgICAgICAgICAgICAgICAnbi9hJ30gLSBgKSk7CiAgICBjb25zdCBwZXJjZW50ID0gc3BhbignMCUgZG9uZScpOwogICAgbGkuYXBwZW5kQ2hpbGQocGVyY2VudCk7CgogICAgb3V0cHV0RWxlbWVudC5hcHBlbmRDaGlsZChsaSk7CgogICAgY29uc3QgZmlsZURhdGFQcm9taXNlID0gbmV3IFByb21pc2UoKHJlc29sdmUpID0+IHsKICAgICAgY29uc3QgcmVhZGVyID0gbmV3IEZpbGVSZWFkZXIoKTsKICAgICAgcmVhZGVyLm9ubG9hZCA9IChlKSA9PiB7CiAgICAgICAgcmVzb2x2ZShlLnRhcmdldC5yZXN1bHQpOwogICAgICB9OwogICAgICByZWFkZXIucmVhZEFzQXJyYXlCdWZmZXIoZmlsZSk7CiAgICB9KTsKICAgIC8vIFdhaXQgZm9yIHRoZSBkYXRhIHRvIGJlIHJlYWR5LgogICAgbGV0IGZpbGVEYXRhID0geWllbGQgewogICAgICBwcm9taXNlOiBmaWxlRGF0YVByb21pc2UsCiAgICAgIHJlc3BvbnNlOiB7CiAgICAgICAgYWN0aW9uOiAnY29udGludWUnLAogICAgICB9CiAgICB9OwoKICAgIC8vIFVzZSBhIGNodW5rZWQgc2VuZGluZyB0byBhdm9pZCBtZXNzYWdlIHNpemUgbGltaXRzLiBTZWUgYi82MjExNTY2MC4KICAgIGxldCBwb3NpdGlvbiA9IDA7CiAgICB3aGlsZSAocG9zaXRpb24gPCBmaWxlRGF0YS5ieXRlTGVuZ3RoKSB7CiAgICAgIGNvbnN0IGxlbmd0aCA9IE1hdGgubWluKGZpbGVEYXRhLmJ5dGVMZW5ndGggLSBwb3NpdGlvbiwgTUFYX1BBWUxPQURfU0laRSk7CiAgICAgIGNvbnN0IGNodW5rID0gbmV3IFVpbnQ4QXJyYXkoZmlsZURhdGEsIHBvc2l0aW9uLCBsZW5ndGgpOwogICAgICBwb3NpdGlvbiArPSBsZW5ndGg7CgogICAgICBjb25zdCBiYXNlNjQgPSBidG9hKFN0cmluZy5mcm9tQ2hhckNvZGUuYXBwbHkobnVsbCwgY2h1bmspKTsKICAgICAgeWllbGQgewogICAgICAgIHJlc3BvbnNlOiB7CiAgICAgICAgICBhY3Rpb246ICdhcHBlbmQnLAogICAgICAgICAgZmlsZTogZmlsZS5uYW1lLAogICAgICAgICAgZGF0YTogYmFzZTY0LAogICAgICAgIH0sCiAgICAgIH07CiAgICAgIHBlcmNlbnQudGV4dENvbnRlbnQgPQogICAgICAgICAgYCR7TWF0aC5yb3VuZCgocG9zaXRpb24gLyBmaWxlRGF0YS5ieXRlTGVuZ3RoKSAqIDEwMCl9JSBkb25lYDsKICAgIH0KICB9CgogIC8vIEFsbCBkb25lLgogIHlpZWxkIHsKICAgIHJlc3BvbnNlOiB7CiAgICAgIGFjdGlvbjogJ2NvbXBsZXRlJywKICAgIH0KICB9Owp9CgpzY29wZS5nb29nbGUgPSBzY29wZS5nb29nbGUgfHwge307CnNjb3BlLmdvb2dsZS5jb2xhYiA9IHNjb3BlLmdvb2dsZS5jb2xhYiB8fCB7fTsKc2NvcGUuZ29vZ2xlLmNvbGFiLl9maWxlcyA9IHsKICBfdXBsb2FkRmlsZXMsCiAgX3VwbG9hZEZpbGVzQ29udGludWUsCn07Cn0pKHNlbGYpOwo=",
              "ok": true,
              "headers": [
                [
                  "content-type",
                  "application/javascript"
                ]
              ],
              "status": 200,
              "status_text": ""
            }
          },
          "base_uri": "https://localhost:8080/",
          "height": 105
        }
      },
      "source": [
        "from google.colab import files\n",
        "uploaded = files.upload()"
      ],
      "execution_count": 1,
      "outputs": [
        {
          "output_type": "display_data",
          "data": {
            "text/html": [
              "\n",
              "     <input type=\"file\" id=\"files-6cd0227c-a48b-4416-b0ea-aa46181c2b2d\" name=\"files[]\" multiple disabled />\n",
              "     <output id=\"result-6cd0227c-a48b-4416-b0ea-aa46181c2b2d\">\n",
              "      Upload widget is only available when the cell has been executed in the\n",
              "      current browser session. Please rerun this cell to enable.\n",
              "      </output>\n",
              "      <script src=\"/nbextensions/google.colab/files.js\"></script> "
            ],
            "text/plain": [
              "<IPython.core.display.HTML object>"
            ]
          },
          "metadata": {
            "tags": []
          }
        },
        {
          "output_type": "stream",
          "text": [
            "Saving factors.csv to factors.csv\n",
            "Saving returns.csv to returns.csv\n"
          ],
          "name": "stdout"
        }
      ]
    },
    {
      "cell_type": "markdown",
      "metadata": {
        "id": "TA3BhX9AZJ-9",
        "colab_type": "text"
      },
      "source": [
        "Then we converted them into pandas data frame and renamed the columns:"
      ]
    },
    {
      "cell_type": "code",
      "metadata": {
        "id": "HzRWoc-kgW0x",
        "colab_type": "code",
        "outputId": "02e07170-6ebc-4dce-dfcf-6140fa1ba723",
        "colab": {
          "base_uri": "https://localhost:8080/",
          "height": 204
        }
      },
      "source": [
        "import pandas as pd\n",
        "import numpy as np\n",
        "\n",
        "# Returns data\n",
        "df_ret = pd.read_csv('returns.csv')\n",
        "pd.DataFrame.from_records(df_ret)\n",
        "df_ret.columns=['PERMNO','Date','Tic','Returns']\n",
        "df_ret.head()"
      ],
      "execution_count": 138,
      "outputs": [
        {
          "output_type": "execute_result",
          "data": {
            "text/html": [
              "<div>\n",
              "<style scoped>\n",
              "    .dataframe tbody tr th:only-of-type {\n",
              "        vertical-align: middle;\n",
              "    }\n",
              "\n",
              "    .dataframe tbody tr th {\n",
              "        vertical-align: top;\n",
              "    }\n",
              "\n",
              "    .dataframe thead th {\n",
              "        text-align: right;\n",
              "    }\n",
              "</style>\n",
              "<table border=\"1\" class=\"dataframe\">\n",
              "  <thead>\n",
              "    <tr style=\"text-align: right;\">\n",
              "      <th></th>\n",
              "      <th>PERMNO</th>\n",
              "      <th>Date</th>\n",
              "      <th>Tic</th>\n",
              "      <th>Returns</th>\n",
              "    </tr>\n",
              "  </thead>\n",
              "  <tbody>\n",
              "    <tr>\n",
              "      <th>0</th>\n",
              "      <td>10026</td>\n",
              "      <td>20160129</td>\n",
              "      <td>JJSF</td>\n",
              "      <td>-0.074484</td>\n",
              "    </tr>\n",
              "    <tr>\n",
              "      <th>1</th>\n",
              "      <td>10026</td>\n",
              "      <td>20160229</td>\n",
              "      <td>JJSF</td>\n",
              "      <td>0.026023</td>\n",
              "    </tr>\n",
              "    <tr>\n",
              "      <th>2</th>\n",
              "      <td>10026</td>\n",
              "      <td>20160331</td>\n",
              "      <td>JJSF</td>\n",
              "      <td>-0.019135</td>\n",
              "    </tr>\n",
              "    <tr>\n",
              "      <th>3</th>\n",
              "      <td>10026</td>\n",
              "      <td>20160429</td>\n",
              "      <td>JJSF</td>\n",
              "      <td>-0.066033</td>\n",
              "    </tr>\n",
              "    <tr>\n",
              "      <th>4</th>\n",
              "      <td>10026</td>\n",
              "      <td>20160531</td>\n",
              "      <td>JJSF</td>\n",
              "      <td>0.043212</td>\n",
              "    </tr>\n",
              "  </tbody>\n",
              "</table>\n",
              "</div>"
            ],
            "text/plain": [
              "   PERMNO      Date   Tic    Returns\n",
              "0   10026  20160129  JJSF  -0.074484\n",
              "1   10026  20160229  JJSF   0.026023\n",
              "2   10026  20160331  JJSF  -0.019135\n",
              "3   10026  20160429  JJSF  -0.066033\n",
              "4   10026  20160531  JJSF   0.043212"
            ]
          },
          "metadata": {
            "tags": []
          },
          "execution_count": 138
        }
      ]
    },
    {
      "cell_type": "code",
      "metadata": {
        "id": "o1A7fcWordRy",
        "colab_type": "code",
        "outputId": "01fa77d0-7f7a-4502-fa6b-aed3b7c9d684",
        "colab": {
          "base_uri": "https://localhost:8080/",
          "height": 204
        }
      },
      "source": [
        "# Factor data\n",
        "\n",
        "df_fa = pd.read_csv('factors.csv')\n",
        "pd.DataFrame.from_records(df_fa)\n",
        "df_fa.columns=['Date','Rm','SMB','HML','Rf']\n",
        "df_fa.head()"
      ],
      "execution_count": 139,
      "outputs": [
        {
          "output_type": "execute_result",
          "data": {
            "text/html": [
              "<div>\n",
              "<style scoped>\n",
              "    .dataframe tbody tr th:only-of-type {\n",
              "        vertical-align: middle;\n",
              "    }\n",
              "\n",
              "    .dataframe tbody tr th {\n",
              "        vertical-align: top;\n",
              "    }\n",
              "\n",
              "    .dataframe thead th {\n",
              "        text-align: right;\n",
              "    }\n",
              "</style>\n",
              "<table border=\"1\" class=\"dataframe\">\n",
              "  <thead>\n",
              "    <tr style=\"text-align: right;\">\n",
              "      <th></th>\n",
              "      <th>Date</th>\n",
              "      <th>Rm</th>\n",
              "      <th>SMB</th>\n",
              "      <th>HML</th>\n",
              "      <th>Rf</th>\n",
              "    </tr>\n",
              "  </thead>\n",
              "  <tbody>\n",
              "    <tr>\n",
              "      <th>0</th>\n",
              "      <td>20160129</td>\n",
              "      <td>-0.0577</td>\n",
              "      <td>-0.0335</td>\n",
              "      <td>0.0208</td>\n",
              "      <td>0.0001</td>\n",
              "    </tr>\n",
              "    <tr>\n",
              "      <th>1</th>\n",
              "      <td>20160229</td>\n",
              "      <td>-0.0007</td>\n",
              "      <td>0.0079</td>\n",
              "      <td>-0.0050</td>\n",
              "      <td>0.0002</td>\n",
              "    </tr>\n",
              "    <tr>\n",
              "      <th>2</th>\n",
              "      <td>20160331</td>\n",
              "      <td>0.0696</td>\n",
              "      <td>0.0087</td>\n",
              "      <td>0.0116</td>\n",
              "      <td>0.0002</td>\n",
              "    </tr>\n",
              "    <tr>\n",
              "      <th>3</th>\n",
              "      <td>20160429</td>\n",
              "      <td>0.0092</td>\n",
              "      <td>0.0069</td>\n",
              "      <td>0.0326</td>\n",
              "      <td>0.0001</td>\n",
              "    </tr>\n",
              "    <tr>\n",
              "      <th>4</th>\n",
              "      <td>20160531</td>\n",
              "      <td>0.0178</td>\n",
              "      <td>-0.0027</td>\n",
              "      <td>-0.0181</td>\n",
              "      <td>0.0001</td>\n",
              "    </tr>\n",
              "  </tbody>\n",
              "</table>\n",
              "</div>"
            ],
            "text/plain": [
              "       Date      Rm     SMB     HML      Rf\n",
              "0  20160129 -0.0577 -0.0335  0.0208  0.0001\n",
              "1  20160229 -0.0007  0.0079 -0.0050  0.0002\n",
              "2  20160331  0.0696  0.0087  0.0116  0.0002\n",
              "3  20160429  0.0092  0.0069  0.0326  0.0001\n",
              "4  20160531  0.0178 -0.0027 -0.0181  0.0001"
            ]
          },
          "metadata": {
            "tags": []
          },
          "execution_count": 139
        }
      ]
    },
    {
      "cell_type": "markdown",
      "metadata": {
        "id": "iwyeRbjzZZap",
        "colab_type": "text"
      },
      "source": [
        "For the convinience of calculation, we converted the data type of `Return` column from `object` to `float`:"
      ]
    },
    {
      "cell_type": "code",
      "metadata": {
        "id": "iPmooINE0Ne5",
        "colab_type": "code",
        "outputId": "c2df5d80-3d37-4bee-a786-bdc11577168c",
        "colab": {
          "base_uri": "https://localhost:8080/",
          "height": 102
        }
      },
      "source": [
        "## Convert 'Return' type from object to float\n",
        "df_ret['Returns'] = pd.to_numeric(df_ret['Returns'], errors='coerce')\n",
        "df_ret.dtypes"
      ],
      "execution_count": 140,
      "outputs": [
        {
          "output_type": "execute_result",
          "data": {
            "text/plain": [
              "PERMNO       int64\n",
              "Date         int64\n",
              "Tic         object\n",
              "Returns    float64\n",
              "dtype: object"
            ]
          },
          "metadata": {
            "tags": []
          },
          "execution_count": 140
        }
      ]
    },
    {
      "cell_type": "markdown",
      "metadata": {
        "id": "ZYzBIhKmZlln",
        "colab_type": "text"
      },
      "source": [
        "Then we checked the missing values in `Returns` data and dropped the rows with NaN in `Returns` column:"
      ]
    },
    {
      "cell_type": "code",
      "metadata": {
        "id": "iU0SKhWqSoke",
        "colab_type": "code",
        "outputId": "767f5064-77e6-45b4-8808-d7bfd88c9ad2",
        "colab": {
          "base_uri": "https://localhost:8080/",
          "height": 102
        }
      },
      "source": [
        "## check missing value \n",
        "df_ret.isna().sum()\n",
        "#df.fillna(df.mean())\n",
        "df_ret.dropna(subset=['Tic', 'Returns'], inplace=True)\n",
        "## check NA again\n",
        "df_ret.isna().sum()"
      ],
      "execution_count": 141,
      "outputs": [
        {
          "output_type": "execute_result",
          "data": {
            "text/plain": [
              "PERMNO     0\n",
              "Date       0\n",
              "Tic        0\n",
              "Returns    0\n",
              "dtype: int64"
            ]
          },
          "metadata": {
            "tags": []
          },
          "execution_count": 141
        }
      ]
    },
    {
      "cell_type": "markdown",
      "metadata": {
        "id": "b3Nb4mqcZtea",
        "colab_type": "text"
      },
      "source": [
        "We removed the `PERMNO` column that will not be used in later steps:"
      ]
    },
    {
      "cell_type": "code",
      "metadata": {
        "id": "ihIab_BbUtKQ",
        "colab_type": "code",
        "colab": {}
      },
      "source": [
        "## Remove 'PERMNO' column\n",
        "df_ret.drop(['PERMNO'], axis=1, inplace=True)"
      ],
      "execution_count": 0,
      "outputs": []
    },
    {
      "cell_type": "markdown",
      "metadata": {
        "id": "7CT-YXSSZ6qk",
        "colab_type": "text"
      },
      "source": [
        "Here we checked the missing values in the `Returns` column again:"
      ]
    },
    {
      "cell_type": "code",
      "metadata": {
        "id": "RWhzGZRUy6_F",
        "colab_type": "code",
        "outputId": "d69d43e5-a3de-430b-cff3-82c62e9c7b21",
        "colab": {
          "base_uri": "https://localhost:8080/",
          "height": 49
        }
      },
      "source": [
        "df_ret[df_ret['Returns'].isnull()]"
      ],
      "execution_count": 142,
      "outputs": [
        {
          "output_type": "execute_result",
          "data": {
            "text/html": [
              "<div>\n",
              "<style scoped>\n",
              "    .dataframe tbody tr th:only-of-type {\n",
              "        vertical-align: middle;\n",
              "    }\n",
              "\n",
              "    .dataframe tbody tr th {\n",
              "        vertical-align: top;\n",
              "    }\n",
              "\n",
              "    .dataframe thead th {\n",
              "        text-align: right;\n",
              "    }\n",
              "</style>\n",
              "<table border=\"1\" class=\"dataframe\">\n",
              "  <thead>\n",
              "    <tr style=\"text-align: right;\">\n",
              "      <th></th>\n",
              "      <th>PERMNO</th>\n",
              "      <th>Date</th>\n",
              "      <th>Tic</th>\n",
              "      <th>Returns</th>\n",
              "    </tr>\n",
              "  </thead>\n",
              "  <tbody>\n",
              "  </tbody>\n",
              "</table>\n",
              "</div>"
            ],
            "text/plain": [
              "Empty DataFrame\n",
              "Columns: [PERMNO, Date, Tic, Returns]\n",
              "Index: []"
            ]
          },
          "metadata": {
            "tags": []
          },
          "execution_count": 142
        }
      ]
    },
    {
      "cell_type": "markdown",
      "metadata": {
        "id": "kemtvEPYaEjm",
        "colab_type": "text"
      },
      "source": [
        "Then we cleaned factors data and checked missing values. The result shows that there is no missing."
      ]
    },
    {
      "cell_type": "code",
      "metadata": {
        "id": "LO0qLwGUqWPh",
        "colab_type": "code",
        "colab": {
          "base_uri": "https://localhost:8080/",
          "height": 119
        },
        "outputId": "02ac5006-cde3-4b5c-ed50-3f9183a24263"
      },
      "source": [
        "df_fa.isna().sum() ## there is no missing value"
      ],
      "execution_count": 143,
      "outputs": [
        {
          "output_type": "execute_result",
          "data": {
            "text/plain": [
              "Date    0\n",
              "Rm      0\n",
              "SMB     0\n",
              "HML     0\n",
              "Rf      0\n",
              "dtype: int64"
            ]
          },
          "metadata": {
            "tags": []
          },
          "execution_count": 143
        }
      ]
    },
    {
      "cell_type": "markdown",
      "metadata": {
        "id": "sjh0LbV7aWTS",
        "colab_type": "text"
      },
      "source": [
        "Now we calculeted the difference between `Rm` and `Rf`, meanwhile creating a new column in `factors` dataframe to store the values:"
      ]
    },
    {
      "cell_type": "code",
      "metadata": {
        "id": "rxiMCPoRaUGk",
        "colab_type": "code",
        "colab": {
          "base_uri": "https://localhost:8080/",
          "height": 1000
        },
        "outputId": "335db9ba-e0b0-4cf7-8a16-c35759745ea8"
      },
      "source": [
        "df_fa['RmMinusRf'] = df_fa['Rm']-df_fa['Rf']\n",
        "df_fa.head(60)"
      ],
      "execution_count": 144,
      "outputs": [
        {
          "output_type": "execute_result",
          "data": {
            "text/html": [
              "<div>\n",
              "<style scoped>\n",
              "    .dataframe tbody tr th:only-of-type {\n",
              "        vertical-align: middle;\n",
              "    }\n",
              "\n",
              "    .dataframe tbody tr th {\n",
              "        vertical-align: top;\n",
              "    }\n",
              "\n",
              "    .dataframe thead th {\n",
              "        text-align: right;\n",
              "    }\n",
              "</style>\n",
              "<table border=\"1\" class=\"dataframe\">\n",
              "  <thead>\n",
              "    <tr style=\"text-align: right;\">\n",
              "      <th></th>\n",
              "      <th>Date</th>\n",
              "      <th>Rm</th>\n",
              "      <th>SMB</th>\n",
              "      <th>HML</th>\n",
              "      <th>Rf</th>\n",
              "      <th>RmMinusRf</th>\n",
              "    </tr>\n",
              "  </thead>\n",
              "  <tbody>\n",
              "    <tr>\n",
              "      <th>0</th>\n",
              "      <td>20160129</td>\n",
              "      <td>-0.0577</td>\n",
              "      <td>-0.0335</td>\n",
              "      <td>0.0208</td>\n",
              "      <td>0.0001</td>\n",
              "      <td>-0.0578</td>\n",
              "    </tr>\n",
              "    <tr>\n",
              "      <th>1</th>\n",
              "      <td>20160229</td>\n",
              "      <td>-0.0007</td>\n",
              "      <td>0.0079</td>\n",
              "      <td>-0.0050</td>\n",
              "      <td>0.0002</td>\n",
              "      <td>-0.0009</td>\n",
              "    </tr>\n",
              "    <tr>\n",
              "      <th>2</th>\n",
              "      <td>20160331</td>\n",
              "      <td>0.0696</td>\n",
              "      <td>0.0087</td>\n",
              "      <td>0.0116</td>\n",
              "      <td>0.0002</td>\n",
              "      <td>0.0694</td>\n",
              "    </tr>\n",
              "    <tr>\n",
              "      <th>3</th>\n",
              "      <td>20160429</td>\n",
              "      <td>0.0092</td>\n",
              "      <td>0.0069</td>\n",
              "      <td>0.0326</td>\n",
              "      <td>0.0001</td>\n",
              "      <td>0.0091</td>\n",
              "    </tr>\n",
              "    <tr>\n",
              "      <th>4</th>\n",
              "      <td>20160531</td>\n",
              "      <td>0.0178</td>\n",
              "      <td>-0.0027</td>\n",
              "      <td>-0.0181</td>\n",
              "      <td>0.0001</td>\n",
              "      <td>0.0177</td>\n",
              "    </tr>\n",
              "    <tr>\n",
              "      <th>5</th>\n",
              "      <td>20160630</td>\n",
              "      <td>-0.0005</td>\n",
              "      <td>0.0065</td>\n",
              "      <td>-0.0147</td>\n",
              "      <td>0.0002</td>\n",
              "      <td>-0.0007</td>\n",
              "    </tr>\n",
              "    <tr>\n",
              "      <th>6</th>\n",
              "      <td>20160729</td>\n",
              "      <td>0.0395</td>\n",
              "      <td>0.0264</td>\n",
              "      <td>-0.0111</td>\n",
              "      <td>0.0002</td>\n",
              "      <td>0.0393</td>\n",
              "    </tr>\n",
              "    <tr>\n",
              "      <th>7</th>\n",
              "      <td>20160831</td>\n",
              "      <td>0.0050</td>\n",
              "      <td>0.0116</td>\n",
              "      <td>0.0334</td>\n",
              "      <td>0.0002</td>\n",
              "      <td>0.0048</td>\n",
              "    </tr>\n",
              "    <tr>\n",
              "      <th>8</th>\n",
              "      <td>20160930</td>\n",
              "      <td>0.0025</td>\n",
              "      <td>0.0202</td>\n",
              "      <td>-0.0149</td>\n",
              "      <td>0.0002</td>\n",
              "      <td>0.0023</td>\n",
              "    </tr>\n",
              "    <tr>\n",
              "      <th>9</th>\n",
              "      <td>20161031</td>\n",
              "      <td>-0.0202</td>\n",
              "      <td>-0.0439</td>\n",
              "      <td>0.0416</td>\n",
              "      <td>0.0002</td>\n",
              "      <td>-0.0204</td>\n",
              "    </tr>\n",
              "    <tr>\n",
              "      <th>10</th>\n",
              "      <td>20161130</td>\n",
              "      <td>0.0486</td>\n",
              "      <td>0.0547</td>\n",
              "      <td>0.0829</td>\n",
              "      <td>0.0001</td>\n",
              "      <td>0.0485</td>\n",
              "    </tr>\n",
              "    <tr>\n",
              "      <th>11</th>\n",
              "      <td>20161230</td>\n",
              "      <td>0.0182</td>\n",
              "      <td>0.0010</td>\n",
              "      <td>0.0358</td>\n",
              "      <td>0.0003</td>\n",
              "      <td>0.0179</td>\n",
              "    </tr>\n",
              "    <tr>\n",
              "      <th>12</th>\n",
              "      <td>20170131</td>\n",
              "      <td>0.0194</td>\n",
              "      <td>-0.0104</td>\n",
              "      <td>-0.0278</td>\n",
              "      <td>0.0004</td>\n",
              "      <td>0.0190</td>\n",
              "    </tr>\n",
              "    <tr>\n",
              "      <th>13</th>\n",
              "      <td>20170228</td>\n",
              "      <td>0.0357</td>\n",
              "      <td>-0.0202</td>\n",
              "      <td>-0.0179</td>\n",
              "      <td>0.0004</td>\n",
              "      <td>0.0353</td>\n",
              "    </tr>\n",
              "    <tr>\n",
              "      <th>14</th>\n",
              "      <td>20170331</td>\n",
              "      <td>0.0017</td>\n",
              "      <td>0.0120</td>\n",
              "      <td>-0.0317</td>\n",
              "      <td>0.0003</td>\n",
              "      <td>0.0014</td>\n",
              "    </tr>\n",
              "    <tr>\n",
              "      <th>15</th>\n",
              "      <td>20170428</td>\n",
              "      <td>0.0109</td>\n",
              "      <td>0.0071</td>\n",
              "      <td>-0.0187</td>\n",
              "      <td>0.0005</td>\n",
              "      <td>0.0104</td>\n",
              "    </tr>\n",
              "    <tr>\n",
              "      <th>16</th>\n",
              "      <td>20170531</td>\n",
              "      <td>0.0106</td>\n",
              "      <td>-0.0254</td>\n",
              "      <td>-0.0378</td>\n",
              "      <td>0.0006</td>\n",
              "      <td>0.0100</td>\n",
              "    </tr>\n",
              "    <tr>\n",
              "      <th>17</th>\n",
              "      <td>20170630</td>\n",
              "      <td>0.0078</td>\n",
              "      <td>0.0217</td>\n",
              "      <td>0.0135</td>\n",
              "      <td>0.0006</td>\n",
              "      <td>0.0072</td>\n",
              "    </tr>\n",
              "    <tr>\n",
              "      <th>18</th>\n",
              "      <td>20170731</td>\n",
              "      <td>0.0187</td>\n",
              "      <td>-0.0141</td>\n",
              "      <td>-0.0029</td>\n",
              "      <td>0.0007</td>\n",
              "      <td>0.0180</td>\n",
              "    </tr>\n",
              "    <tr>\n",
              "      <th>19</th>\n",
              "      <td>20170831</td>\n",
              "      <td>0.0016</td>\n",
              "      <td>-0.0167</td>\n",
              "      <td>-0.0224</td>\n",
              "      <td>0.0009</td>\n",
              "      <td>0.0007</td>\n",
              "    </tr>\n",
              "    <tr>\n",
              "      <th>20</th>\n",
              "      <td>20170929</td>\n",
              "      <td>0.0251</td>\n",
              "      <td>0.0455</td>\n",
              "      <td>0.0303</td>\n",
              "      <td>0.0009</td>\n",
              "      <td>0.0242</td>\n",
              "    </tr>\n",
              "    <tr>\n",
              "      <th>21</th>\n",
              "      <td>20171031</td>\n",
              "      <td>0.0225</td>\n",
              "      <td>-0.0194</td>\n",
              "      <td>-0.0005</td>\n",
              "      <td>0.0009</td>\n",
              "      <td>0.0216</td>\n",
              "    </tr>\n",
              "    <tr>\n",
              "      <th>22</th>\n",
              "      <td>20171130</td>\n",
              "      <td>0.0312</td>\n",
              "      <td>-0.0065</td>\n",
              "      <td>-0.0004</td>\n",
              "      <td>0.0008</td>\n",
              "      <td>0.0304</td>\n",
              "    </tr>\n",
              "    <tr>\n",
              "      <th>23</th>\n",
              "      <td>20171229</td>\n",
              "      <td>0.0106</td>\n",
              "      <td>-0.0128</td>\n",
              "      <td>0.0014</td>\n",
              "      <td>0.0009</td>\n",
              "      <td>0.0097</td>\n",
              "    </tr>\n",
              "    <tr>\n",
              "      <th>24</th>\n",
              "      <td>20180131</td>\n",
              "      <td>0.0558</td>\n",
              "      <td>-0.0303</td>\n",
              "      <td>-0.0137</td>\n",
              "      <td>0.0011</td>\n",
              "      <td>0.0547</td>\n",
              "    </tr>\n",
              "    <tr>\n",
              "      <th>25</th>\n",
              "      <td>20180228</td>\n",
              "      <td>-0.0365</td>\n",
              "      <td>0.0026</td>\n",
              "      <td>-0.0119</td>\n",
              "      <td>0.0011</td>\n",
              "      <td>-0.0376</td>\n",
              "    </tr>\n",
              "    <tr>\n",
              "      <th>26</th>\n",
              "      <td>20180329</td>\n",
              "      <td>-0.0235</td>\n",
              "      <td>0.0395</td>\n",
              "      <td>-0.0012</td>\n",
              "      <td>0.0012</td>\n",
              "      <td>-0.0247</td>\n",
              "    </tr>\n",
              "    <tr>\n",
              "      <th>27</th>\n",
              "      <td>20180430</td>\n",
              "      <td>0.0029</td>\n",
              "      <td>0.0112</td>\n",
              "      <td>0.0054</td>\n",
              "      <td>0.0014</td>\n",
              "      <td>0.0015</td>\n",
              "    </tr>\n",
              "    <tr>\n",
              "      <th>28</th>\n",
              "      <td>20180531</td>\n",
              "      <td>0.0265</td>\n",
              "      <td>0.0523</td>\n",
              "      <td>-0.0316</td>\n",
              "      <td>0.0014</td>\n",
              "      <td>0.0251</td>\n",
              "    </tr>\n",
              "    <tr>\n",
              "      <th>29</th>\n",
              "      <td>20180629</td>\n",
              "      <td>0.0048</td>\n",
              "      <td>0.0118</td>\n",
              "      <td>-0.0238</td>\n",
              "      <td>0.0014</td>\n",
              "      <td>0.0034</td>\n",
              "    </tr>\n",
              "    <tr>\n",
              "      <th>30</th>\n",
              "      <td>20180731</td>\n",
              "      <td>0.0319</td>\n",
              "      <td>-0.0217</td>\n",
              "      <td>0.0043</td>\n",
              "      <td>0.0016</td>\n",
              "      <td>0.0303</td>\n",
              "    </tr>\n",
              "    <tr>\n",
              "      <th>31</th>\n",
              "      <td>20180831</td>\n",
              "      <td>0.0344</td>\n",
              "      <td>0.0115</td>\n",
              "      <td>-0.0408</td>\n",
              "      <td>0.0016</td>\n",
              "      <td>0.0328</td>\n",
              "    </tr>\n",
              "    <tr>\n",
              "      <th>32</th>\n",
              "      <td>20180928</td>\n",
              "      <td>0.0006</td>\n",
              "      <td>-0.0237</td>\n",
              "      <td>-0.0130</td>\n",
              "      <td>0.0015</td>\n",
              "      <td>-0.0009</td>\n",
              "    </tr>\n",
              "    <tr>\n",
              "      <th>33</th>\n",
              "      <td>20181031</td>\n",
              "      <td>-0.0768</td>\n",
              "      <td>-0.0476</td>\n",
              "      <td>0.0344</td>\n",
              "      <td>0.0019</td>\n",
              "      <td>-0.0787</td>\n",
              "    </tr>\n",
              "    <tr>\n",
              "      <th>34</th>\n",
              "      <td>20181130</td>\n",
              "      <td>0.0169</td>\n",
              "      <td>-0.0079</td>\n",
              "      <td>0.0025</td>\n",
              "      <td>0.0018</td>\n",
              "      <td>0.0151</td>\n",
              "    </tr>\n",
              "    <tr>\n",
              "      <th>35</th>\n",
              "      <td>20181231</td>\n",
              "      <td>-0.0955</td>\n",
              "      <td>-0.0263</td>\n",
              "      <td>-0.0147</td>\n",
              "      <td>0.0019</td>\n",
              "      <td>-0.0974</td>\n",
              "    </tr>\n",
              "    <tr>\n",
              "      <th>36</th>\n",
              "      <td>20190131</td>\n",
              "      <td>0.0841</td>\n",
              "      <td>0.0301</td>\n",
              "      <td>-0.0062</td>\n",
              "      <td>0.0021</td>\n",
              "      <td>0.0820</td>\n",
              "    </tr>\n",
              "    <tr>\n",
              "      <th>37</th>\n",
              "      <td>20190228</td>\n",
              "      <td>0.0340</td>\n",
              "      <td>0.0206</td>\n",
              "      <td>-0.0284</td>\n",
              "      <td>0.0018</td>\n",
              "      <td>0.0322</td>\n",
              "    </tr>\n",
              "    <tr>\n",
              "      <th>38</th>\n",
              "      <td>20190329</td>\n",
              "      <td>0.0110</td>\n",
              "      <td>-0.0313</td>\n",
              "      <td>-0.0407</td>\n",
              "      <td>0.0019</td>\n",
              "      <td>0.0091</td>\n",
              "    </tr>\n",
              "    <tr>\n",
              "      <th>39</th>\n",
              "      <td>20190430</td>\n",
              "      <td>0.0396</td>\n",
              "      <td>-0.0168</td>\n",
              "      <td>0.0193</td>\n",
              "      <td>0.0021</td>\n",
              "      <td>0.0375</td>\n",
              "    </tr>\n",
              "    <tr>\n",
              "      <th>40</th>\n",
              "      <td>20190531</td>\n",
              "      <td>-0.0694</td>\n",
              "      <td>-0.0120</td>\n",
              "      <td>-0.0239</td>\n",
              "      <td>0.0021</td>\n",
              "      <td>-0.0715</td>\n",
              "    </tr>\n",
              "    <tr>\n",
              "      <th>41</th>\n",
              "      <td>20190628</td>\n",
              "      <td>0.0693</td>\n",
              "      <td>0.0034</td>\n",
              "      <td>-0.0108</td>\n",
              "      <td>0.0018</td>\n",
              "      <td>0.0675</td>\n",
              "    </tr>\n",
              "    <tr>\n",
              "      <th>42</th>\n",
              "      <td>20190731</td>\n",
              "      <td>0.0119</td>\n",
              "      <td>-0.0207</td>\n",
              "      <td>0.0014</td>\n",
              "      <td>0.0019</td>\n",
              "      <td>0.0100</td>\n",
              "    </tr>\n",
              "    <tr>\n",
              "      <th>43</th>\n",
              "      <td>20190830</td>\n",
              "      <td>-0.0258</td>\n",
              "      <td>-0.0241</td>\n",
              "      <td>-0.0499</td>\n",
              "      <td>0.0016</td>\n",
              "      <td>-0.0274</td>\n",
              "    </tr>\n",
              "    <tr>\n",
              "      <th>44</th>\n",
              "      <td>20190930</td>\n",
              "      <td>0.0144</td>\n",
              "      <td>-0.0090</td>\n",
              "      <td>0.0671</td>\n",
              "      <td>0.0018</td>\n",
              "      <td>0.0126</td>\n",
              "    </tr>\n",
              "    <tr>\n",
              "      <th>45</th>\n",
              "      <td>20191031</td>\n",
              "      <td>0.0206</td>\n",
              "      <td>0.0025</td>\n",
              "      <td>-0.0207</td>\n",
              "      <td>0.0015</td>\n",
              "      <td>0.0191</td>\n",
              "    </tr>\n",
              "    <tr>\n",
              "      <th>46</th>\n",
              "      <td>20191129</td>\n",
              "      <td>0.0387</td>\n",
              "      <td>0.0087</td>\n",
              "      <td>-0.0186</td>\n",
              "      <td>0.0012</td>\n",
              "      <td>0.0375</td>\n",
              "    </tr>\n",
              "    <tr>\n",
              "      <th>47</th>\n",
              "      <td>20191231</td>\n",
              "      <td>0.0277</td>\n",
              "      <td>0.0068</td>\n",
              "      <td>0.0183</td>\n",
              "      <td>0.0014</td>\n",
              "      <td>0.0263</td>\n",
              "    </tr>\n",
              "  </tbody>\n",
              "</table>\n",
              "</div>"
            ],
            "text/plain": [
              "        Date      Rm     SMB     HML      Rf  RmMinusRf\n",
              "0   20160129 -0.0577 -0.0335  0.0208  0.0001    -0.0578\n",
              "1   20160229 -0.0007  0.0079 -0.0050  0.0002    -0.0009\n",
              "2   20160331  0.0696  0.0087  0.0116  0.0002     0.0694\n",
              "3   20160429  0.0092  0.0069  0.0326  0.0001     0.0091\n",
              "4   20160531  0.0178 -0.0027 -0.0181  0.0001     0.0177\n",
              "5   20160630 -0.0005  0.0065 -0.0147  0.0002    -0.0007\n",
              "6   20160729  0.0395  0.0264 -0.0111  0.0002     0.0393\n",
              "7   20160831  0.0050  0.0116  0.0334  0.0002     0.0048\n",
              "8   20160930  0.0025  0.0202 -0.0149  0.0002     0.0023\n",
              "9   20161031 -0.0202 -0.0439  0.0416  0.0002    -0.0204\n",
              "10  20161130  0.0486  0.0547  0.0829  0.0001     0.0485\n",
              "11  20161230  0.0182  0.0010  0.0358  0.0003     0.0179\n",
              "12  20170131  0.0194 -0.0104 -0.0278  0.0004     0.0190\n",
              "13  20170228  0.0357 -0.0202 -0.0179  0.0004     0.0353\n",
              "14  20170331  0.0017  0.0120 -0.0317  0.0003     0.0014\n",
              "15  20170428  0.0109  0.0071 -0.0187  0.0005     0.0104\n",
              "16  20170531  0.0106 -0.0254 -0.0378  0.0006     0.0100\n",
              "17  20170630  0.0078  0.0217  0.0135  0.0006     0.0072\n",
              "18  20170731  0.0187 -0.0141 -0.0029  0.0007     0.0180\n",
              "19  20170831  0.0016 -0.0167 -0.0224  0.0009     0.0007\n",
              "20  20170929  0.0251  0.0455  0.0303  0.0009     0.0242\n",
              "21  20171031  0.0225 -0.0194 -0.0005  0.0009     0.0216\n",
              "22  20171130  0.0312 -0.0065 -0.0004  0.0008     0.0304\n",
              "23  20171229  0.0106 -0.0128  0.0014  0.0009     0.0097\n",
              "24  20180131  0.0558 -0.0303 -0.0137  0.0011     0.0547\n",
              "25  20180228 -0.0365  0.0026 -0.0119  0.0011    -0.0376\n",
              "26  20180329 -0.0235  0.0395 -0.0012  0.0012    -0.0247\n",
              "27  20180430  0.0029  0.0112  0.0054  0.0014     0.0015\n",
              "28  20180531  0.0265  0.0523 -0.0316  0.0014     0.0251\n",
              "29  20180629  0.0048  0.0118 -0.0238  0.0014     0.0034\n",
              "30  20180731  0.0319 -0.0217  0.0043  0.0016     0.0303\n",
              "31  20180831  0.0344  0.0115 -0.0408  0.0016     0.0328\n",
              "32  20180928  0.0006 -0.0237 -0.0130  0.0015    -0.0009\n",
              "33  20181031 -0.0768 -0.0476  0.0344  0.0019    -0.0787\n",
              "34  20181130  0.0169 -0.0079  0.0025  0.0018     0.0151\n",
              "35  20181231 -0.0955 -0.0263 -0.0147  0.0019    -0.0974\n",
              "36  20190131  0.0841  0.0301 -0.0062  0.0021     0.0820\n",
              "37  20190228  0.0340  0.0206 -0.0284  0.0018     0.0322\n",
              "38  20190329  0.0110 -0.0313 -0.0407  0.0019     0.0091\n",
              "39  20190430  0.0396 -0.0168  0.0193  0.0021     0.0375\n",
              "40  20190531 -0.0694 -0.0120 -0.0239  0.0021    -0.0715\n",
              "41  20190628  0.0693  0.0034 -0.0108  0.0018     0.0675\n",
              "42  20190731  0.0119 -0.0207  0.0014  0.0019     0.0100\n",
              "43  20190830 -0.0258 -0.0241 -0.0499  0.0016    -0.0274\n",
              "44  20190930  0.0144 -0.0090  0.0671  0.0018     0.0126\n",
              "45  20191031  0.0206  0.0025 -0.0207  0.0015     0.0191\n",
              "46  20191129  0.0387  0.0087 -0.0186  0.0012     0.0375\n",
              "47  20191231  0.0277  0.0068  0.0183  0.0014     0.0263"
            ]
          },
          "metadata": {
            "tags": []
          },
          "execution_count": 144
        }
      ]
    },
    {
      "cell_type": "markdown",
      "metadata": {
        "id": "E4LuFLojcfcP",
        "colab_type": "text"
      },
      "source": [
        "To substract columns from two data frames, we merged the factor and return data together and did the calculation of `Returns` minus `Rf`:"
      ]
    },
    {
      "cell_type": "code",
      "metadata": {
        "id": "pn2EtD1SrZEH",
        "colab_type": "code",
        "outputId": "25223aac-3bf8-4f6c-9a60-c98d7ca47c04",
        "colab": {
          "base_uri": "https://localhost:8080/",
          "height": 204
        }
      },
      "source": [
        "## merge df_ret and df_fa to a master dataframe\n",
        "df = pd.merge(df_ret, df_fa, on = 'Date', how = 'left')\n",
        "df.head(60)\n",
        "\n",
        "## calculate 'RMinusRf'\n",
        "df['RMinusRf'] = df['Returns'] - df['Rf']\n",
        "df.head()"
      ],
      "execution_count": 9,
      "outputs": [
        {
          "output_type": "execute_result",
          "data": {
            "text/html": [
              "<div>\n",
              "<style scoped>\n",
              "    .dataframe tbody tr th:only-of-type {\n",
              "        vertical-align: middle;\n",
              "    }\n",
              "\n",
              "    .dataframe tbody tr th {\n",
              "        vertical-align: top;\n",
              "    }\n",
              "\n",
              "    .dataframe thead th {\n",
              "        text-align: right;\n",
              "    }\n",
              "</style>\n",
              "<table border=\"1\" class=\"dataframe\">\n",
              "  <thead>\n",
              "    <tr style=\"text-align: right;\">\n",
              "      <th></th>\n",
              "      <th>Date</th>\n",
              "      <th>Tic</th>\n",
              "      <th>Returns</th>\n",
              "      <th>Rm</th>\n",
              "      <th>SMB</th>\n",
              "      <th>HML</th>\n",
              "      <th>Rf</th>\n",
              "      <th>RmMinusRf</th>\n",
              "      <th>RMinusRf</th>\n",
              "    </tr>\n",
              "  </thead>\n",
              "  <tbody>\n",
              "    <tr>\n",
              "      <th>0</th>\n",
              "      <td>20160129</td>\n",
              "      <td>JJSF</td>\n",
              "      <td>-0.074484</td>\n",
              "      <td>-0.0577</td>\n",
              "      <td>-0.0335</td>\n",
              "      <td>0.0208</td>\n",
              "      <td>0.0001</td>\n",
              "      <td>-0.0578</td>\n",
              "      <td>-0.074584</td>\n",
              "    </tr>\n",
              "    <tr>\n",
              "      <th>1</th>\n",
              "      <td>20160229</td>\n",
              "      <td>JJSF</td>\n",
              "      <td>0.026023</td>\n",
              "      <td>-0.0007</td>\n",
              "      <td>0.0079</td>\n",
              "      <td>-0.0050</td>\n",
              "      <td>0.0002</td>\n",
              "      <td>-0.0009</td>\n",
              "      <td>0.025823</td>\n",
              "    </tr>\n",
              "    <tr>\n",
              "      <th>2</th>\n",
              "      <td>20160331</td>\n",
              "      <td>JJSF</td>\n",
              "      <td>-0.019135</td>\n",
              "      <td>0.0696</td>\n",
              "      <td>0.0087</td>\n",
              "      <td>0.0116</td>\n",
              "      <td>0.0002</td>\n",
              "      <td>0.0694</td>\n",
              "      <td>-0.019335</td>\n",
              "    </tr>\n",
              "    <tr>\n",
              "      <th>3</th>\n",
              "      <td>20160429</td>\n",
              "      <td>JJSF</td>\n",
              "      <td>-0.066033</td>\n",
              "      <td>0.0092</td>\n",
              "      <td>0.0069</td>\n",
              "      <td>0.0326</td>\n",
              "      <td>0.0001</td>\n",
              "      <td>0.0091</td>\n",
              "      <td>-0.066133</td>\n",
              "    </tr>\n",
              "    <tr>\n",
              "      <th>4</th>\n",
              "      <td>20160531</td>\n",
              "      <td>JJSF</td>\n",
              "      <td>0.043212</td>\n",
              "      <td>0.0178</td>\n",
              "      <td>-0.0027</td>\n",
              "      <td>-0.0181</td>\n",
              "      <td>0.0001</td>\n",
              "      <td>0.0177</td>\n",
              "      <td>0.043112</td>\n",
              "    </tr>\n",
              "  </tbody>\n",
              "</table>\n",
              "</div>"
            ],
            "text/plain": [
              "       Date   Tic   Returns      Rm  ...     HML      Rf  RmMinusRf  RMinusRf\n",
              "0  20160129  JJSF -0.074484 -0.0577  ...  0.0208  0.0001    -0.0578 -0.074584\n",
              "1  20160229  JJSF  0.026023 -0.0007  ... -0.0050  0.0002    -0.0009  0.025823\n",
              "2  20160331  JJSF -0.019135  0.0696  ...  0.0116  0.0002     0.0694 -0.019335\n",
              "3  20160429  JJSF -0.066033  0.0092  ...  0.0326  0.0001     0.0091 -0.066133\n",
              "4  20160531  JJSF  0.043212  0.0178  ... -0.0181  0.0001     0.0177  0.043112\n",
              "\n",
              "[5 rows x 9 columns]"
            ]
          },
          "metadata": {
            "tags": []
          },
          "execution_count": 9
        }
      ]
    },
    {
      "cell_type": "markdown",
      "metadata": {
        "id": "zkNiPH91cyF_",
        "colab_type": "text"
      },
      "source": [
        "Then we quickly looked at the summary of the variables:"
      ]
    },
    {
      "cell_type": "code",
      "metadata": {
        "id": "yeJ0sPdd1cMi",
        "colab_type": "code",
        "colab": {
          "base_uri": "https://localhost:8080/",
          "height": 297
        },
        "outputId": "1acebedb-40f7-4236-ded9-44461b8d32cf"
      },
      "source": [
        "df.describe()"
      ],
      "execution_count": 10,
      "outputs": [
        {
          "output_type": "execute_result",
          "data": {
            "text/html": [
              "<div>\n",
              "<style scoped>\n",
              "    .dataframe tbody tr th:only-of-type {\n",
              "        vertical-align: middle;\n",
              "    }\n",
              "\n",
              "    .dataframe tbody tr th {\n",
              "        vertical-align: top;\n",
              "    }\n",
              "\n",
              "    .dataframe thead th {\n",
              "        text-align: right;\n",
              "    }\n",
              "</style>\n",
              "<table border=\"1\" class=\"dataframe\">\n",
              "  <thead>\n",
              "    <tr style=\"text-align: right;\">\n",
              "      <th></th>\n",
              "      <th>Date</th>\n",
              "      <th>Returns</th>\n",
              "      <th>Rm</th>\n",
              "      <th>SMB</th>\n",
              "      <th>HML</th>\n",
              "      <th>Rf</th>\n",
              "      <th>RmMinusRf</th>\n",
              "      <th>RMinusRf</th>\n",
              "    </tr>\n",
              "  </thead>\n",
              "  <tbody>\n",
              "    <tr>\n",
              "      <th>count</th>\n",
              "      <td>6.174100e+04</td>\n",
              "      <td>61741.000000</td>\n",
              "      <td>61741.000000</td>\n",
              "      <td>61741.000000</td>\n",
              "      <td>61741.000000</td>\n",
              "      <td>61741.000000</td>\n",
              "      <td>61741.000000</td>\n",
              "      <td>61741.000000</td>\n",
              "    </tr>\n",
              "    <tr>\n",
              "      <th>mean</th>\n",
              "      <td>2.017611e+07</td>\n",
              "      <td>0.014437</td>\n",
              "      <td>0.010915</td>\n",
              "      <td>-0.001091</td>\n",
              "      <td>-0.002638</td>\n",
              "      <td>0.001047</td>\n",
              "      <td>0.009868</td>\n",
              "      <td>0.013390</td>\n",
              "    </tr>\n",
              "    <tr>\n",
              "      <th>std</th>\n",
              "      <td>1.118884e+04</td>\n",
              "      <td>0.123662</td>\n",
              "      <td>0.035183</td>\n",
              "      <td>0.023254</td>\n",
              "      <td>0.027232</td>\n",
              "      <td>0.000674</td>\n",
              "      <td>0.035240</td>\n",
              "      <td>0.123687</td>\n",
              "    </tr>\n",
              "    <tr>\n",
              "      <th>min</th>\n",
              "      <td>2.016013e+07</td>\n",
              "      <td>-0.912198</td>\n",
              "      <td>-0.095500</td>\n",
              "      <td>-0.047600</td>\n",
              "      <td>-0.049900</td>\n",
              "      <td>0.000100</td>\n",
              "      <td>-0.097400</td>\n",
              "      <td>-0.913998</td>\n",
              "    </tr>\n",
              "    <tr>\n",
              "      <th>25%</th>\n",
              "      <td>2.017013e+07</td>\n",
              "      <td>-0.040750</td>\n",
              "      <td>0.001700</td>\n",
              "      <td>-0.020200</td>\n",
              "      <td>-0.020700</td>\n",
              "      <td>0.000300</td>\n",
              "      <td>0.001400</td>\n",
              "      <td>-0.041643</td>\n",
              "    </tr>\n",
              "    <tr>\n",
              "      <th>50%</th>\n",
              "      <td>2.018013e+07</td>\n",
              "      <td>0.012461</td>\n",
              "      <td>0.014400</td>\n",
              "      <td>0.001000</td>\n",
              "      <td>-0.010800</td>\n",
              "      <td>0.001100</td>\n",
              "      <td>0.012600</td>\n",
              "      <td>0.011478</td>\n",
              "    </tr>\n",
              "    <tr>\n",
              "      <th>75%</th>\n",
              "      <td>2.019013e+07</td>\n",
              "      <td>0.064618</td>\n",
              "      <td>0.031900</td>\n",
              "      <td>0.011500</td>\n",
              "      <td>0.011600</td>\n",
              "      <td>0.001600</td>\n",
              "      <td>0.030400</td>\n",
              "      <td>0.063591</td>\n",
              "    </tr>\n",
              "    <tr>\n",
              "      <th>max</th>\n",
              "      <td>2.019123e+07</td>\n",
              "      <td>4.163793</td>\n",
              "      <td>0.084100</td>\n",
              "      <td>0.054700</td>\n",
              "      <td>0.082900</td>\n",
              "      <td>0.002100</td>\n",
              "      <td>0.082000</td>\n",
              "      <td>4.162593</td>\n",
              "    </tr>\n",
              "  </tbody>\n",
              "</table>\n",
              "</div>"
            ],
            "text/plain": [
              "               Date       Returns  ...     RmMinusRf      RMinusRf\n",
              "count  6.174100e+04  61741.000000  ...  61741.000000  61741.000000\n",
              "mean   2.017611e+07      0.014437  ...      0.009868      0.013390\n",
              "std    1.118884e+04      0.123662  ...      0.035240      0.123687\n",
              "min    2.016013e+07     -0.912198  ...     -0.097400     -0.913998\n",
              "25%    2.017013e+07     -0.040750  ...      0.001400     -0.041643\n",
              "50%    2.018013e+07      0.012461  ...      0.012600      0.011478\n",
              "75%    2.019013e+07      0.064618  ...      0.030400      0.063591\n",
              "max    2.019123e+07      4.163793  ...      0.082000      4.162593\n",
              "\n",
              "[8 rows x 8 columns]"
            ]
          },
          "metadata": {
            "tags": []
          },
          "execution_count": 10
        }
      ]
    },
    {
      "cell_type": "markdown",
      "metadata": {
        "id": "okLgzitUEuL2",
        "colab_type": "text"
      },
      "source": [
        "Before running into models, we would like to check those companys with less records, which might not be processed by OLS models. Then we extracted companies with more than 10 months to be our target companies in the models:"
      ]
    },
    {
      "cell_type": "code",
      "metadata": {
        "id": "2GSuPNVYEtVa",
        "colab_type": "code",
        "colab": {}
      },
      "source": [
        "tic_select = df['Tic'].value_counts()\n",
        "tic_select.tail(66)\n",
        "new_tic = pd.DataFrame(tic_select.head(1391))\n",
        "tic_ls = list(new_tic.index)"
      ],
      "execution_count": 0,
      "outputs": []
    },
    {
      "cell_type": "markdown",
      "metadata": {
        "id": "uxwY7KCKpY0p",
        "colab_type": "text"
      },
      "source": [
        "## Estimate CAPM Regression:\n",
        "*Formula: R-Rf = alpha + Beta*(Rm-Rf) + e"
      ]
    },
    {
      "cell_type": "code",
      "metadata": {
        "id": "4EzAJ04H4brh",
        "colab_type": "code",
        "colab": {
          "base_uri": "https://localhost:8080/",
          "height": 54
        },
        "outputId": "f81f9a11-9a54-4648-b195-afec077f8116"
      },
      "source": [
        "print(tic_ls)"
      ],
      "execution_count": 86,
      "outputs": [
        {
          "output_type": "stream",
          "text": [
            "['STZ', 'TAP', 'LEN', 'MKC', 'CBS', 'UA', 'CRTO', 'MORN', 'TTMI', 'NTAP', 'MPB', 'AEE', 'MTD', 'AFL', 'NBL', 'LMAT', 'EL', 'IDXX', 'MKSI', 'SAFM', 'TRV', 'SPNS', 'UDR', 'XOM', 'TXMD', 'BWA', 'TECD', 'UCBI', 'JCS', 'GLW', 'BIDU', 'BRKL', 'PCAR', 'NVMI', 'Z', 'HZNP', 'ICLR', 'ESS', 'CG', 'ARNA', 'GPS', 'FIVN', 'IP', 'DHIL', 'HMST', 'WAT', 'EMR', 'PPC', 'PODD', 'ILMN', 'RVNC', 'ENTG', 'FOXF', 'EIX', 'INTC', 'PCRX', 'ICFI', 'HSIC', 'TISI', 'TEAM', 'OMCL', 'CTRE', 'CORT', 'ADMA', 'FWRD', 'GRPN', 'ERIE', 'IIVI', 'PFE', 'GLPI', 'ACHC', 'CSGS', 'ARCB', 'RPD', 'MIDD', 'INOV', 'MERC', 'KMPR', 'WEC', 'MCK', 'MGM', 'CASH', 'GPN', 'LB', 'TRUP', 'F', 'MCRB', 'CPRT', 'TSCO', 'MOMO', 'FORR', 'TILE', 'ERIC', 'SASR', 'SYBT', 'UMBF', 'HST', 'YNDX', 'WAB', 'ACLS', 'PKI', 'STMP', 'HAIN', 'SIGI', 'SLG', 'ASML', 'BAC', 'BPMC', 'NEOG', 'KO', 'SLGN', 'ENTA', 'TTWO', 'XEL', 'KPTI', 'CMCO', 'ERI', 'M', 'INTU', 'MPWR', 'COKE', 'ACIW', 'DE', 'RYAAY', 'FFIN', 'MHK', 'UNM', 'RGEN', 'PSX', 'STE', 'NWSA', 'TNDM', 'CNSL', 'IIN', 'CROX', 'HPE', 'BLUE', 'RUSHA', 'RF', 'JPM', 'QIWI', 'SATS', 'NTN', 'AERI', 'HRL', 'PDCO', 'AMPH', 'SIMO', 'CE', 'RNST', 'BEN', 'ALXN', 'SAEX', 'ATRI', 'HELE', 'EPZM', 'AAL', 'EXAS', 'KELYA', 'RHI', 'FANG', 'TIF', 'PFG', 'SHEN', 'BCPC', 'FGEN', 'SBNY', 'VIRT', 'EOG', 'SLB', 'ADBE', 'AZPN', 'HURN', 'AEIS', 'CCLP', 'T', 'GILD', 'ICPT', 'BUSE', 'PVH', 'ALDX', 'GSBC', 'FIZZ', 'MSTR', 'LBRDA', 'BAX', 'LKFN', 'VLY', 'AAPL', 'SSB', 'FIS', 'BIIB', 'BLMN', 'MLM', 'LYV', 'A', 'BLL', 'GOOG', 'DRNA', 'LECO', 'ROCK', 'JKHY', 'ORLY', 'KBAL', 'CMCSA', 'ISBC', 'AXDX', 'MGIC', 'AGNC', 'IEX', 'EBSB', 'AMSF', 'ISTR', 'KSU', 'LOGM', 'DFS', 'FULT', 'CSTE', 'TMUS', 'ROST', 'INFN', 'AVGO', 'LANC', 'ODP', 'XLRN', 'XYL', 'LBTYK', 'RE', 'LRCX', 'ATVI', 'IIIN', 'MAS', 'SCHW', 'UIHC', 'MLSS', 'LBTYA', 'JD', 'APA', 'MTSI', 'CTL', 'ABCB', 'OPB', 'TTOO', 'HDS', 'IAC', 'ETSY', 'FSV', 'WY', 'ROIC', 'BLDR', 'SWKS', 'FB', 'CLNE', 'TBPH', 'FOLD', 'NEM', 'SMTC', 'AGN', 'FELE', 'AMWD', 'STBA', 'IPG', 'SLM', 'APOG', 'CHRW', 'HD', 'PIR', 'ADUS', 'BMRN', 'MYGN', 'FLT', 'BLK', 'WIRE', 'CMPR', 'GRMN', 'K', 'D', 'SRCE', 'XLNX', 'DVA', 'AGFS', 'TWTR', 'WEN', 'NOW', 'HSY', 'MDT', 'NDAQ', 'VNO', 'RJF', 'CATM', 'POWI', 'STLD', 'CSOD', 'HRB', 'NEO', 'IRWD', 'AMED', 'NWS', 'SAGE', 'EW', 'OFIX', 'ROLL', 'KALU', 'PRAA', 'ORCL', 'SYY', 'ATNI', 'AES', 'CDNS', 'KEYS', 'FORM', 'HBI', 'DIS', 'HOLX', 'WSFS', 'PLUS', 'UPS', 'CAR', 'IRDM', 'HA', 'NVR', 'WFC', 'NXPI', 'PPBI', 'MPC', 'AMP', 'YUM', 'MMM', 'AJG', 'ACRX', 'CNOB', 'FATE', 'APD', 'IT', 'ALK', 'HIG', 'SAIA', 'OXY', 'AXSM', 'LDOS', 'SSNC', 'LH', 'FLS', 'BH', 'INBK', 'EA', 'WABC', 'BLKB', 'BZUN', 'AEGN', 'RMR', 'HRTX', 'GBCI', 'GTLS', 'ABC', 'JCOM', 'VYGR', 'TGT', 'BA', 'CSGP', 'ABMD', 'SIRI', 'ENDP', 'ALB', 'DAL', 'FIBK', 'BK', 'ASND', 'BR', 'COP', 'AVB', 'ZBH', 'SPLK', 'TRST', 'IBOC', 'ZTS', 'CMI', 'URI', 'WDFC', 'CVGW', 'PNC', 'CAG', 'SBLK', 'TCX', 'CDW', 'AMGN', 'MIME', 'CVX', 'BCRX', 'CSII', 'LGIH', 'STT', 'RDWR', 'ETFC', 'LNT', 'WDAY', 'NSIT', 'MRO', 'ADRO', 'JCI', 'DHI', 'MGNX', 'VTR', 'LITE', 'INCY', 'UTHR', 'ALGN', 'ITW', 'GWPH', 'SYKE', 'MRK', 'COST', 'IMGN', 'LPLA', 'CI', 'MANT', 'ROP', 'GASS', 'KRNY', 'GOOGL', 'HQY', 'ITRI', 'VICR', 'ITT', 'FMBI', 'MCD', 'AKAM', 'HTHT', 'SUPN', 'LGND', 'PAYX', 'MCRI', 'LYB', 'NTRS', 'PFIS', 'AKBA', 'NTGR', 'CVCO', 'MYL', 'COMM', 'VZ', 'PLXS', 'DLR', 'MMSI', 'GWW', 'PACW', 'HAS', 'CAC', 'HLT', 'PSMT', 'PLCE', 'SKYW', 'NTRA', 'TCBK', 'HPQ', 'MAT', 'QCOM', 'SEE', 'FRPT', 'MTB', 'EQR', 'ANSS', 'LSCC', 'FFBC', 'YY', 'RP', 'KEY', 'SP', 'ADSK', 'BANR', 'HSKA', 'CREE', 'JJSF', 'GNTX', 'ON', 'LAMR', 'KHC', 'CBSH', 'PAYC', 'JBLU', 'NSC', 'TCBI', 'VOD', 'CCXI', 'SBRA', 'NDSN', 'TRMK', 'CXO', 'CMS', 'EGRX', 'LNC', 'WU', 'ZNGA', 'ALKS', 'SAFT', 'FEYE', 'CL', 'PEGA', 'SBAC', 'CMT', 'CLLS', 'SIVB', 'MRTX', 'AVY', 'CHKP', 'IBKC', 'CSX', 'MCO', 'QURE', 'UBSI', 'RBCAA', 'MMYT', 'POOL', 'ISRG', 'ECPG', 'WM', 'HTLF', 'TRS', 'EEFT', 'AON', 'LLY', 'EZPW', 'HBMD', 'AMT', 'NCLH', 'PEP', 'REGN', 'QDEL', 'INDB', 'INSM', 'HTLD', 'CHRS', 'TIVO', 'PNW', 'IRM', 'CGNX', 'SPSC', 'EBAY', 'ALLE', 'EFSC', 'CAH', 'SPWR', 'IBTX', 'OLED', 'IR', 'NTCT', 'DRE', 'AVT', 'MYOK', 'PRQR', 'MTCH', 'IFF', 'MKTX', 'EWBC', 'NBTB', 'SINA', 'CENTA', 'EXPO', 'COLB', 'FTNT', 'LOPE', 'NICE', 'TSN', 'AIG', 'ALGT', 'CVS', 'SFNC', 'COO', 'CTAS', 'FRT', 'FNLC', 'PSA', 'EXC', 'CRVL', 'RAVN', 'NVDA', 'CONE', 'MA', 'NUE', 'WASH', 'VRTX', 'UMPQ', 'DNKN', 'ATRA', 'MANH', 'AIV', 'MDLZ', 'XRX', 'CATY', 'PEG', 'DENN', 'QUOT', 'SNY', 'AIZ', 'KSS', 'PAR', 'CSFL', 'MET', 'AMD', 'NKE', 'FMC', 'SRPT', 'NUVA', 'NFBK', 'ENSG', 'AGIO', 'STAY', 'PRTA', 'ANET', 'DXCM', 'VNOM', 'KRNT', 'CFFN', 'TROW', 'GD', 'KTOS', 'HCSG', 'ZGNX', 'JBHT', 'NERV', 'NBIX', 'ARLP', 'ATRC', 'STFC', 'ICUI', 'DUK', 'AIMT', 'AMAT', 'ACGL', 'ANAT', 'MNST', 'TEL', 'CZR', 'DOX', 'DOV', 'EXEL', 'ENPH', 'USB', 'TTEK', 'ECL', 'V', 'SCHL', 'SJM', 'VRSK', 'ETN', 'PBCT', 'DIOD', 'EPAY', 'TGTX', 'PTEN', 'ANTM', 'TSLA', 'PRFT', 'NWBI', 'EXPE', 'LBRDK', 'SBUX', 'PGR', 'FE', 'RCL', 'EHTH', 'BCOR', 'VRSN', 'WBA', 'CDK', 'PRTK', 'CHE', 'MNRO', 'RGNX', 'LUV', 'COLM', 'BBY', 'EYEG', 'PPL', 'DISH', 'SBSI', 'FITB', 'OPK', 'AMKR', 'KLIC', 'GIS', 'PPG', 'DG', 'TFX', 'VIAV', 'GPC', 'TJX', 'PLAY', 'IPGP', 'ISDR', 'TECH', 'SRCL', 'DGX', 'HII', 'O', 'PDCE', 'LEE', 'PRGO', 'NTES', 'NYMT', 'SYNA', 'WERN', 'FCX', 'ACAD', 'CPB', 'ADI', 'ATO', 'DVN', 'BEAT', 'UEIC', 'FRC', 'HMSY', 'TREE', 'ED', 'CRUS', 'WIX', 'RMBS', 'WTFC', 'SFBS', 'GLPG', 'PYPL', 'PUB', 'SYK', 'EXPD', 'OKE', 'CFG', 'WHR', 'ADS', 'EMN', 'LIVN', 'ADP', 'ODFL', 'AZO', 'MAA', 'JNPR', 'IDCC', 'VG', 'JOBS', 'SHW', 'IOSP', 'STRA', 'LOB', 'CACC', 'UVSP', 'FISV', 'NWL', 'PFBC', 'FSLR', 'WRK', 'BSX', 'CCL', 'HAL', 'PINC', 'PRGS', 'UAL', 'SWK', 'BGCP', 'AAP', 'HES', 'C', 'EXLS', 'MXIM', 'ALRM', 'UNH', 'PACB', 'GGAL', 'BOKF', 'LOW', 'VBTX', 'CLX', 'TRIP', 'FBNC', 'UFPI', 'CCMP', 'BPOP', 'BPFH', 'BRKS', 'OLLI', 'FBHS', 'CCOI', 'CNC', 'SSYS', 'STX', 'MS', 'GT', 'KMX', 'MTSC', 'CSIQ', 'PATK', 'SLAB', 'NEE', 'MLNX', 'FCFS', 'WWD', 'NGHC', 'MELI', 'WMGI', 'SEDG', 'NKTR', 'MINI', 'KOPN', 'SPG', 'HOG', 'SEIC', 'TTPH', 'IVZ', 'ABUS', 'RTN', 'TDG', 'PRU', 'ROL', 'HOLI', 'LEG', 'MLHR', 'PHM', 'EXR', 'FCNCA', 'GRFS', 'SCSC', 'PNR', 'BKEP', 'STAA', 'LFUS', 'MO', 'CORE', 'PXD', 'RCII', 'LVS', 'MNTA', 'CMA', 'INVA', 'AVAV', 'KIM', 'LMT', 'SBGI', 'AOS', 'CBAY', 'FFIC', 'IEP', 'AMBA', 'RGLD', 'SON', 'PM', 'KMI', 'CY', 'MSI', 'FAST', 'PRAH', 'SNA', 'XNCR', 'SGMO', 'ETR', 'ULTA', 'KLAC', 'OMC', 'VIRC', 'HFC', 'ALL', 'DTE', 'TRMB', 'CAT', 'PG', 'NRG', 'DLTR', 'COHR', 'JAZZ', 'MSCI', 'GM', 'THRM', 'CWST', 'NMIH', 'MRVL', 'SNPS', 'FFIV', 'IMMU', 'AEP', 'MSEX', 'VRTU', 'CVA', 'SFM', 'SHOO', 'CERN', 'SBCF', 'MSFT', 'NVCR', 'FIVE', 'OCFC', 'GABC', 'HP', 'SRE', 'PCTY', 'CBPO', 'NFLX', 'OFLX', 'WMB', 'SANM', 'CBRL', 'MMC', 'LPSN', 'KMB', 'GSM', 'FPRX', 'UTX', 'MASI', 'PFPT', 'HUBG', 'CBOE', 'MDRX', 'LSTR', 'RMD', 'L', 'VC', 'EQIX', 'SQBG', 'RARE', 'CRM', 'TFSL', 'AMRN', 'LMNX', 'WLTW', 'AMTD', 'OTTR', 'IBKR', 'PLD', 'BRKR', 'ITCI', 'BBBY', 'PTC', 'VFC', 'LOGI', 'AAON', 'CSCO', 'CF', 'UNP', 'HBAN', 'JNJ', 'CYTK', 'JWN', 'GDEN', 'BANF', 'SGEN', 'CINF', 'HEES', 'AMCX', 'ECOL', 'CHDN', 'HCA', 'ADM', 'IONS', 'CMRX', 'DISCA', 'ACN', 'LXRX', 'NAVI', 'SABR', 'HUM', 'DHR', 'CAKE', 'GS', 'JRVR', 'AWK', 'ROK', 'FL', 'COTY', 'PENN', 'UHAL', 'LBAI', 'TTEC', 'CVLT', 'BDGE', 'WDC', 'VRNT', 'PCH', 'SYF', 'TSEM', 'CMG', 'BLCM', 'MGPI', 'CCI', 'GOOD', 'PH', 'PWR', 'PTCT', 'LKQ', 'CTSH', 'FTR', 'UFCS', 'NOV', 'HOMB', 'CALM', 'BMY', 'BRID', 'AME', 'CDNA', 'MU', 'PRIM', 'MGRC', 'PNFP', 'MCY', 'ES', 'ARE', 'ABBV', 'THFF', 'TXT', 'APPF', 'ITRN', 'DX', 'CTXS', 'ATSG', 'EBIX', 'VAR', 'FDX', 'PZZA', 'NUAN', 'BXP', 'AIMC', 'IPAR', 'CHD', 'UHS', 'ESGR', 'CASY', 'REG', 'CTBI', 'COF', 'ZG', 'PKG', 'AAWW', 'OSIS', 'TXN', 'COG', 'GE', 'WING', 'EGBN', 'RL', 'MOS', 'WRB', 'LHCG', 'ALNY', 'CME', 'VLO', 'ABT', 'ARWR', 'TXRH', 'CVBF', 'TER', 'BECN', 'ZBRA', 'CHTR', 'CB', 'CTMX', 'MRCY', 'LULU', 'CYBR', 'EBTC', 'MRTN', 'GOGL', 'RSG', 'ESLT', 'WYNN', 'GBT', 'PAAS', 'MTW', 'IART', 'ESPR', 'DISCK', 'NWLI', 'UNT', 'APH', 'KR', 'CASS', 'DORM', 'TMO', 'ICE', 'VRNS', 'FLEX', 'NATI', 'JACK', 'ONB', 'NI', 'HALO', 'MCHP', 'EGOV', 'NOC', 'TERP', 'HON', 'NXST', 'QLYS', 'VSAT', 'DRI', 'RUN', 'MAR', 'GLYC', 'WAFD', 'PEIX', 'XRAY', 'BDX', 'GEOS', 'SO', 'CNP', 'MGEE', 'MGLN', 'LORL', 'WB', 'URBN', 'IBM', 'FLIR', 'VMC', 'AMZN', 'CHCO', 'AXP', 'WMT', 'QRVO', 'ADMP', 'NLSN', 'EFX', 'ZION', 'FLIC', 'SGMS', 'TOWN', 'WSBC', 'ITI', 'ACRS', 'FRME', 'FTI', 'JEC', 'LILA', 'LILAK', 'BBT', 'FOXA', 'FOX', 'SYMC', 'BGNE', 'CTRP', 'HCP', 'EDIT', 'SPGI', 'NNDM', 'CRVS', 'NOVT', 'ULH', 'BATRK', 'LSXMA', 'RRR', 'LSXMK', 'HPT', 'TMK', 'CHFC', 'ACIA', 'RETA', 'BMCH', 'BABY', 'HONE', 'HRS', 'INFO', 'FTV', 'PDVW', 'KNSL', 'TPIC', 'INSY', 'TLND', 'TCMD', 'HOPE', 'SNHY', 'MEDP', 'FHB', 'UBSH', 'CNXN', 'EVBG', 'WTW', 'NTNX', 'TTD', 'TRHC', 'CDEV', 'CASM', 'BL', 'IRTC', 'RARX', 'COUP', 'KALV', 'TWNK', 'TEUM', 'CRSP', 'XOG', 'OHGI', 'FANH', 'AXON', 'DFFN', 'UAA', 'LW', 'SND', 'GTYH', 'GDS', 'GOV', 'FWONK', 'KORS', 'UNIT', 'TELL', 'VREX', 'VEON', 'LAUR', 'MLCO', 'BYSI', 'ROSE', 'HLNE', 'AAXN', 'DXC', 'SVRA', 'PLYA', 'RCM', 'WMIH', 'TCF', 'QSII', 'KONE', 'TOCA', 'OKTA', 'DEPO', 'SMCI', 'IOVA', 'FMAO', 'OVID', 'SCOR', 'APPN', 'JNP', 'URGN', 'GTHX', 'ARGX', 'XELA', 'OZRK', 'ATNX', 'SMPL', 'ALRN', 'NEXT', 'NESR', 'RDFN', 'AKCA', 'WWR', 'SYBX', 'WR', 'DOW', 'HBHC', 'BHF', 'ROKU', 'NRCIA', 'DD', 'BHGE', 'NCNA', 'ZLAB', 'TPR', 'DCPH', 'SECO', 'CBG', 'LCA', 'AY', 'IQV', 'SNBR', 'CARG', 'OPTN', 'WSC', 'MDB', 'EYE', 'QVCA', 'ALTR', 'BAND', 'IFRX', 'SFIX', 'ALNA', 'APLS', 'PCLN', 'LOOP', 'APTV', 'ITEK', 'NMRK', 'DNLI', 'LX', 'SLS', 'INCR', 'RCKT', 'GALE', 'SYNH', 'DLPH', 'ILPT', 'SLDB', 'BKNG', 'TORC', 'QRTEA', 'Q', 'LIVX', 'SCSS', 'TPIV', 'CBRE', 'CDLX', 'EAGL', 'ABY', 'ADPT', 'ZS', 'IQ', 'COH', 'GLIBA', 'AHPA', 'NRC', 'FIXX', 'DBX', 'BILI', 'DWDP', 'DOCU', 'ELOX', 'HWC', 'PS', 'URRE', 'EVRG', 'UBX', 'KNSA', 'MIRN', 'FTSV', 'BHI', 'KAAC', 'HRMN', 'EIDX', 'QPAC', 'AVRO', 'VRCA', 'TCDA', 'ECOR', 'MGTA', 'OZK', 'TENB', 'ASRT', 'CNST', 'PDD', 'HFFG', 'TLRY', 'GSHT', 'RUBY', 'LBIO', 'AFIN', 'ALLK', 'REPL', 'SFET', 'TCB', 'SONO', 'NXGN', 'SVMK', 'CSC', 'QTT', 'BNGO', 'GRTS', 'KLXE', 'TASR', 'COOP', 'VRRM', 'PRNB', 'MPEL', 'YMAB', 'ARVN', 'ARCE', 'MSTX', 'MRKR', 'WTRH', 'VIP', 'STNE', 'LIN', 'UPWK', 'ALLO', 'ALTM', 'KOD', 'FTDR', 'TWST', 'GH', 'RBZ', 'IQNT', 'CSAL', 'MPET', 'DOTA', 'OPI', 'LMCK', 'ORGO', 'KLRE', 'MRNA', 'CPRI', 'LKCO', 'CISG', 'AXGT', 'TIGO', 'ETAK', 'CVET', 'MWW', 'GOSS', 'ALEC', 'TCRR', 'GRSH', 'CBYL']\n"
          ],
          "name": "stdout"
        }
      ]
    },
    {
      "cell_type": "markdown",
      "metadata": {
        "id": "I-o9wymsLcoW",
        "colab_type": "text"
      },
      "source": [
        "With the ticker symbols of companies with more than 10 recors in the data frame, we constricued a loop that cam subset each company and run the CAPM Regression sepaately. The output of the loop will be the coefficient of `Rm - Rf`, which is the CAPM_Beta:"
      ]
    },
    {
      "cell_type": "code",
      "metadata": {
        "id": "vOyD3jpt_Kcq",
        "colab_type": "code",
        "colab": {}
      },
      "source": [
        "import statsmodels.api as sm\n",
        "capm_df = pd.DataFrame(columns = ['Tic', 'Beta'])\n",
        "\n",
        "for name in tic_ls :\n",
        "  mod_df = df.loc[df['Tic'] == name]\n",
        "  X = mod_df['RmMinusRf']\n",
        "  y = mod_df['RMinusRf']\n",
        "  X = sm.add_constant(X)\n",
        "  model = sm.OLS(y, X).fit()\n",
        "  capm_df = capm_df.append({'Tic' : name , 'Beta' : model.params[1]} , ignore_index=True)"
      ],
      "execution_count": 0,
      "outputs": []
    },
    {
      "cell_type": "code",
      "metadata": {
        "id": "at7O4MsW_YiG",
        "colab_type": "code",
        "colab": {
          "base_uri": "https://localhost:8080/",
          "height": 419
        },
        "outputId": "f7e0f389-e854-4ac1-81e3-b2c1f48656e5"
      },
      "source": [
        "capm_df"
      ],
      "execution_count": 89,
      "outputs": [
        {
          "output_type": "execute_result",
          "data": {
            "text/html": [
              "<div>\n",
              "<style scoped>\n",
              "    .dataframe tbody tr th:only-of-type {\n",
              "        vertical-align: middle;\n",
              "    }\n",
              "\n",
              "    .dataframe tbody tr th {\n",
              "        vertical-align: top;\n",
              "    }\n",
              "\n",
              "    .dataframe thead th {\n",
              "        text-align: right;\n",
              "    }\n",
              "</style>\n",
              "<table border=\"1\" class=\"dataframe\">\n",
              "  <thead>\n",
              "    <tr style=\"text-align: right;\">\n",
              "      <th></th>\n",
              "      <th>Tic</th>\n",
              "      <th>Beta</th>\n",
              "    </tr>\n",
              "  </thead>\n",
              "  <tbody>\n",
              "    <tr>\n",
              "      <th>0</th>\n",
              "      <td>STZ</td>\n",
              "      <td>0.787953</td>\n",
              "    </tr>\n",
              "    <tr>\n",
              "      <th>1</th>\n",
              "      <td>TAP</td>\n",
              "      <td>0.855555</td>\n",
              "    </tr>\n",
              "    <tr>\n",
              "      <th>2</th>\n",
              "      <td>LEN</td>\n",
              "      <td>1.080656</td>\n",
              "    </tr>\n",
              "    <tr>\n",
              "      <th>3</th>\n",
              "      <td>MKC</td>\n",
              "      <td>-0.016428</td>\n",
              "    </tr>\n",
              "    <tr>\n",
              "      <th>4</th>\n",
              "      <td>CBS</td>\n",
              "      <td>0.934880</td>\n",
              "    </tr>\n",
              "    <tr>\n",
              "      <th>...</th>\n",
              "      <td>...</td>\n",
              "      <td>...</td>\n",
              "    </tr>\n",
              "    <tr>\n",
              "      <th>1386</th>\n",
              "      <td>GOSS</td>\n",
              "      <td>-0.025796</td>\n",
              "    </tr>\n",
              "    <tr>\n",
              "      <th>1387</th>\n",
              "      <td>ALEC</td>\n",
              "      <td>2.445290</td>\n",
              "    </tr>\n",
              "    <tr>\n",
              "      <th>1388</th>\n",
              "      <td>TCRR</td>\n",
              "      <td>0.551201</td>\n",
              "    </tr>\n",
              "    <tr>\n",
              "      <th>1389</th>\n",
              "      <td>GRSH</td>\n",
              "      <td>0.061971</td>\n",
              "    </tr>\n",
              "    <tr>\n",
              "      <th>1390</th>\n",
              "      <td>CBYL</td>\n",
              "      <td>2.777947</td>\n",
              "    </tr>\n",
              "  </tbody>\n",
              "</table>\n",
              "<p>1391 rows × 2 columns</p>\n",
              "</div>"
            ],
            "text/plain": [
              "       Tic      Beta\n",
              "0      STZ  0.787953\n",
              "1      TAP  0.855555\n",
              "2      LEN  1.080656\n",
              "3      MKC -0.016428\n",
              "4      CBS  0.934880\n",
              "...    ...       ...\n",
              "1386  GOSS -0.025796\n",
              "1387  ALEC  2.445290\n",
              "1388  TCRR  0.551201\n",
              "1389  GRSH  0.061971\n",
              "1390  CBYL  2.777947\n",
              "\n",
              "[1391 rows x 2 columns]"
            ]
          },
          "metadata": {
            "tags": []
          },
          "execution_count": 89
        }
      ]
    },
    {
      "cell_type": "markdown",
      "metadata": {
        "id": "1oTFCzHSIBtC",
        "colab_type": "text"
      },
      "source": [
        "Then we calculated the average beta of all these tickers:"
      ]
    },
    {
      "cell_type": "code",
      "metadata": {
        "id": "vKckn8VoIHgU",
        "colab_type": "code",
        "colab": {
          "base_uri": "https://localhost:8080/",
          "height": 34
        },
        "outputId": "0aa98e99-278e-430a-af51-35caa6d072bb"
      },
      "source": [
        "from statistics import mean\n",
        "\n",
        "ave_capm_beta = mean(capm_df['Beta'])\n",
        "print(ave_capm_beta)"
      ],
      "execution_count": 94,
      "outputs": [
        {
          "output_type": "stream",
          "text": [
            "1.2136605599699128\n"
          ],
          "name": "stdout"
        }
      ]
    },
    {
      "cell_type": "markdown",
      "metadata": {
        "id": "-upsHbuuIqXW",
        "colab_type": "text"
      },
      "source": [
        "Then we printed out the descriptive analysis to see the percentiles of the CAPM betas:"
      ]
    },
    {
      "cell_type": "code",
      "metadata": {
        "id": "6Iu7R-btIpY8",
        "colab_type": "code",
        "colab": {
          "base_uri": "https://localhost:8080/",
          "height": 297
        },
        "outputId": "37a0209e-ab08-4b32-e178-5b8f2da4e473"
      },
      "source": [
        "capm_df.describe()"
      ],
      "execution_count": 95,
      "outputs": [
        {
          "output_type": "execute_result",
          "data": {
            "text/html": [
              "<div>\n",
              "<style scoped>\n",
              "    .dataframe tbody tr th:only-of-type {\n",
              "        vertical-align: middle;\n",
              "    }\n",
              "\n",
              "    .dataframe tbody tr th {\n",
              "        vertical-align: top;\n",
              "    }\n",
              "\n",
              "    .dataframe thead th {\n",
              "        text-align: right;\n",
              "    }\n",
              "</style>\n",
              "<table border=\"1\" class=\"dataframe\">\n",
              "  <thead>\n",
              "    <tr style=\"text-align: right;\">\n",
              "      <th></th>\n",
              "      <th>Beta</th>\n",
              "    </tr>\n",
              "  </thead>\n",
              "  <tbody>\n",
              "    <tr>\n",
              "      <th>count</th>\n",
              "      <td>1391.000000</td>\n",
              "    </tr>\n",
              "    <tr>\n",
              "      <th>mean</th>\n",
              "      <td>1.213661</td>\n",
              "    </tr>\n",
              "    <tr>\n",
              "      <th>std</th>\n",
              "      <td>0.740942</td>\n",
              "    </tr>\n",
              "    <tr>\n",
              "      <th>min</th>\n",
              "      <td>-2.047513</td>\n",
              "    </tr>\n",
              "    <tr>\n",
              "      <th>25%</th>\n",
              "      <td>0.757382</td>\n",
              "    </tr>\n",
              "    <tr>\n",
              "      <th>50%</th>\n",
              "      <td>1.170017</td>\n",
              "    </tr>\n",
              "    <tr>\n",
              "      <th>75%</th>\n",
              "      <td>1.561562</td>\n",
              "    </tr>\n",
              "    <tr>\n",
              "      <th>max</th>\n",
              "      <td>6.700845</td>\n",
              "    </tr>\n",
              "  </tbody>\n",
              "</table>\n",
              "</div>"
            ],
            "text/plain": [
              "              Beta\n",
              "count  1391.000000\n",
              "mean      1.213661\n",
              "std       0.740942\n",
              "min      -2.047513\n",
              "25%       0.757382\n",
              "50%       1.170017\n",
              "75%       1.561562\n",
              "max       6.700845"
            ]
          },
          "metadata": {
            "tags": []
          },
          "execution_count": 95
        }
      ]
    },
    {
      "cell_type": "markdown",
      "metadata": {
        "id": "zaoIH8aVVWQV",
        "colab_type": "text"
      },
      "source": [
        "The mean and medium of the betas are higher than 1, and we can infer that the stocks of these companies are more volatile than the market. They are more sensitive to the market change."
      ]
    },
    {
      "cell_type": "markdown",
      "metadata": {
        "id": "RAk1NNKn1QBd",
        "colab_type": "text"
      },
      "source": [
        "## Estimate Fama-French 3-Factor Model:\n",
        "R-Rf = alpha + Beta(Rm-Rf) +sSMB + h*HML + e\n",
        "\n",
        "For the Fama-French model, we modified the previous loop by changing the pre-defined dataframe."
      ]
    },
    {
      "cell_type": "code",
      "metadata": {
        "id": "6RheMrVlo8Uz",
        "colab_type": "code",
        "colab": {}
      },
      "source": [
        "import statsmodels.api as sm\n",
        "FF_df = pd.DataFrame(columns = ['Tic', 'FF_Beta', 'FF_s', 'FF_h'])\n",
        "\n",
        "for name in tic_ls :\n",
        "  mod_df = df.loc[df['Tic'] == name]\n",
        "  X = mod_df[['RmMinusRf', 'SMB', 'HML']]\n",
        "  y = mod_df['RMinusRf']\n",
        "  X = sm.add_constant(X) # adding a constant\n",
        "  model = sm.OLS(y, X).fit()\n",
        "  FF_df = FF_df.append({'Tic' : name , 'FF_Beta' : model.params[1], 'FF_s': model.params[2], 'FF_h':model.params[3]} , ignore_index=True)"
      ],
      "execution_count": 0,
      "outputs": []
    },
    {
      "cell_type": "code",
      "metadata": {
        "id": "DE7OJbgnKgGS",
        "colab_type": "code",
        "colab": {
          "base_uri": "https://localhost:8080/",
          "height": 419
        },
        "outputId": "d4db8bf8-2596-4ab6-c835-83f35faa94bf"
      },
      "source": [
        "FF_df"
      ],
      "execution_count": 103,
      "outputs": [
        {
          "output_type": "execute_result",
          "data": {
            "text/html": [
              "<div>\n",
              "<style scoped>\n",
              "    .dataframe tbody tr th:only-of-type {\n",
              "        vertical-align: middle;\n",
              "    }\n",
              "\n",
              "    .dataframe tbody tr th {\n",
              "        vertical-align: top;\n",
              "    }\n",
              "\n",
              "    .dataframe thead th {\n",
              "        text-align: right;\n",
              "    }\n",
              "</style>\n",
              "<table border=\"1\" class=\"dataframe\">\n",
              "  <thead>\n",
              "    <tr style=\"text-align: right;\">\n",
              "      <th></th>\n",
              "      <th>Tic</th>\n",
              "      <th>FF_Beta</th>\n",
              "      <th>FF_s</th>\n",
              "      <th>FF_h</th>\n",
              "    </tr>\n",
              "  </thead>\n",
              "  <tbody>\n",
              "    <tr>\n",
              "      <th>0</th>\n",
              "      <td>STZ</td>\n",
              "      <td>0.921005</td>\n",
              "      <td>-0.506456</td>\n",
              "      <td>0.093319</td>\n",
              "    </tr>\n",
              "    <tr>\n",
              "      <th>1</th>\n",
              "      <td>TAP</td>\n",
              "      <td>1.073410</td>\n",
              "      <td>-0.832880</td>\n",
              "      <td>0.200575</td>\n",
              "    </tr>\n",
              "    <tr>\n",
              "      <th>2</th>\n",
              "      <td>LEN</td>\n",
              "      <td>1.103541</td>\n",
              "      <td>-0.083492</td>\n",
              "      <td>-0.031640</td>\n",
              "    </tr>\n",
              "    <tr>\n",
              "      <th>3</th>\n",
              "      <td>MKC</td>\n",
              "      <td>0.117872</td>\n",
              "      <td>-0.466685</td>\n",
              "      <td>-0.492508</td>\n",
              "    </tr>\n",
              "    <tr>\n",
              "      <th>4</th>\n",
              "      <td>CBS</td>\n",
              "      <td>0.899303</td>\n",
              "      <td>0.109059</td>\n",
              "      <td>0.460978</td>\n",
              "    </tr>\n",
              "    <tr>\n",
              "      <th>...</th>\n",
              "      <td>...</td>\n",
              "      <td>...</td>\n",
              "      <td>...</td>\n",
              "      <td>...</td>\n",
              "    </tr>\n",
              "    <tr>\n",
              "      <th>1386</th>\n",
              "      <td>GOSS</td>\n",
              "      <td>0.345930</td>\n",
              "      <td>5.552879</td>\n",
              "      <td>-4.655321</td>\n",
              "    </tr>\n",
              "    <tr>\n",
              "      <th>1387</th>\n",
              "      <td>ALEC</td>\n",
              "      <td>2.433829</td>\n",
              "      <td>1.638455</td>\n",
              "      <td>-0.936939</td>\n",
              "    </tr>\n",
              "    <tr>\n",
              "      <th>1388</th>\n",
              "      <td>TCRR</td>\n",
              "      <td>0.534820</td>\n",
              "      <td>2.378587</td>\n",
              "      <td>-1.361105</td>\n",
              "    </tr>\n",
              "    <tr>\n",
              "      <th>1389</th>\n",
              "      <td>GRSH</td>\n",
              "      <td>0.112469</td>\n",
              "      <td>0.240085</td>\n",
              "      <td>0.782763</td>\n",
              "    </tr>\n",
              "    <tr>\n",
              "      <th>1390</th>\n",
              "      <td>CBYL</td>\n",
              "      <td>6.712819</td>\n",
              "      <td>-8.701039</td>\n",
              "      <td>0.263994</td>\n",
              "    </tr>\n",
              "  </tbody>\n",
              "</table>\n",
              "<p>1391 rows × 4 columns</p>\n",
              "</div>"
            ],
            "text/plain": [
              "       Tic   FF_Beta      FF_s      FF_h\n",
              "0      STZ  0.921005 -0.506456  0.093319\n",
              "1      TAP  1.073410 -0.832880  0.200575\n",
              "2      LEN  1.103541 -0.083492 -0.031640\n",
              "3      MKC  0.117872 -0.466685 -0.492508\n",
              "4      CBS  0.899303  0.109059  0.460978\n",
              "...    ...       ...       ...       ...\n",
              "1386  GOSS  0.345930  5.552879 -4.655321\n",
              "1387  ALEC  2.433829  1.638455 -0.936939\n",
              "1388  TCRR  0.534820  2.378587 -1.361105\n",
              "1389  GRSH  0.112469  0.240085  0.782763\n",
              "1390  CBYL  6.712819 -8.701039  0.263994\n",
              "\n",
              "[1391 rows x 4 columns]"
            ]
          },
          "metadata": {
            "tags": []
          },
          "execution_count": 103
        }
      ]
    },
    {
      "cell_type": "markdown",
      "metadata": {
        "id": "eUqv1UcjKl-f",
        "colab_type": "text"
      },
      "source": [
        "Next we calculated the average values of three coefficients for all companies listed:"
      ]
    },
    {
      "cell_type": "code",
      "metadata": {
        "id": "APpuHA4YJpde",
        "colab_type": "code",
        "colab": {
          "base_uri": "https://localhost:8080/",
          "height": 68
        },
        "outputId": "0eddf66d-3081-4322-dc57-da4d9206b20c"
      },
      "source": [
        "ave_ff_beta = mean(FF_df['FF_Beta'])\n",
        "print(ave_ff_beta)\n",
        "ave_ff_s = mean(FF_df['FF_s'])\n",
        "print(ave_ff_s)\n",
        "ave_ff_h = mean(FF_df['FF_h'])\n",
        "print(ave_ff_h)"
      ],
      "execution_count": 104,
      "outputs": [
        {
          "output_type": "stream",
          "text": [
            "1.0665516938172608\n",
            "0.5627390685983974\n",
            "-0.006081901799550146\n"
          ],
          "name": "stdout"
        }
      ]
    },
    {
      "cell_type": "markdown",
      "metadata": {
        "id": "CzuLpD9GK74o",
        "colab_type": "text"
      },
      "source": [
        "Also the descriptive analysis for the coefficients:"
      ]
    },
    {
      "cell_type": "code",
      "metadata": {
        "id": "1J7kWYzpLEdy",
        "colab_type": "code",
        "colab": {
          "base_uri": "https://localhost:8080/",
          "height": 297
        },
        "outputId": "e0e7cdc2-5b03-4fd8-df00-eed49fc80afc"
      },
      "source": [
        "FF_df.describe()"
      ],
      "execution_count": 105,
      "outputs": [
        {
          "output_type": "execute_result",
          "data": {
            "text/html": [
              "<div>\n",
              "<style scoped>\n",
              "    .dataframe tbody tr th:only-of-type {\n",
              "        vertical-align: middle;\n",
              "    }\n",
              "\n",
              "    .dataframe tbody tr th {\n",
              "        vertical-align: top;\n",
              "    }\n",
              "\n",
              "    .dataframe thead th {\n",
              "        text-align: right;\n",
              "    }\n",
              "</style>\n",
              "<table border=\"1\" class=\"dataframe\">\n",
              "  <thead>\n",
              "    <tr style=\"text-align: right;\">\n",
              "      <th></th>\n",
              "      <th>FF_Beta</th>\n",
              "      <th>FF_s</th>\n",
              "      <th>FF_h</th>\n",
              "    </tr>\n",
              "  </thead>\n",
              "  <tbody>\n",
              "    <tr>\n",
              "      <th>count</th>\n",
              "      <td>1391.000000</td>\n",
              "      <td>1391.000000</td>\n",
              "      <td>1391.000000</td>\n",
              "    </tr>\n",
              "    <tr>\n",
              "      <th>mean</th>\n",
              "      <td>1.066552</td>\n",
              "      <td>0.562739</td>\n",
              "      <td>-0.006082</td>\n",
              "    </tr>\n",
              "    <tr>\n",
              "      <th>std</th>\n",
              "      <td>0.740654</td>\n",
              "      <td>1.313763</td>\n",
              "      <td>1.098802</td>\n",
              "    </tr>\n",
              "    <tr>\n",
              "      <th>min</th>\n",
              "      <td>-6.164477</td>\n",
              "      <td>-8.701039</td>\n",
              "      <td>-7.297178</td>\n",
              "    </tr>\n",
              "    <tr>\n",
              "      <th>25%</th>\n",
              "      <td>0.638430</td>\n",
              "      <td>-0.070683</td>\n",
              "      <td>-0.475948</td>\n",
              "    </tr>\n",
              "    <tr>\n",
              "      <th>50%</th>\n",
              "      <td>1.028555</td>\n",
              "      <td>0.384285</td>\n",
              "      <td>0.016470</td>\n",
              "    </tr>\n",
              "    <tr>\n",
              "      <th>75%</th>\n",
              "      <td>1.421269</td>\n",
              "      <td>1.014340</td>\n",
              "      <td>0.561374</td>\n",
              "    </tr>\n",
              "    <tr>\n",
              "      <th>max</th>\n",
              "      <td>6.712819</td>\n",
              "      <td>10.340536</td>\n",
              "      <td>7.609706</td>\n",
              "    </tr>\n",
              "  </tbody>\n",
              "</table>\n",
              "</div>"
            ],
            "text/plain": [
              "           FF_Beta         FF_s         FF_h\n",
              "count  1391.000000  1391.000000  1391.000000\n",
              "mean      1.066552     0.562739    -0.006082\n",
              "std       0.740654     1.313763     1.098802\n",
              "min      -6.164477    -8.701039    -7.297178\n",
              "25%       0.638430    -0.070683    -0.475948\n",
              "50%       1.028555     0.384285     0.016470\n",
              "75%       1.421269     1.014340     0.561374\n",
              "max       6.712819    10.340536     7.609706"
            ]
          },
          "metadata": {
            "tags": []
          },
          "execution_count": 105
        }
      ]
    },
    {
      "cell_type": "markdown",
      "metadata": {
        "id": "AGW51SXRV1nO",
        "colab_type": "text"
      },
      "source": [
        "Compared to the statistics of CAPM_Betas, the mean and median value of FF_Betas are smaller, but still greater than 1. So we can infer that these companies are more sensitive to the market change.\n",
        "\n",
        "Moreover, FF model involves 2 other factors that takes the weight away from the betas, so the beta can represent more truthful information of that stock.\n"
      ]
    },
    {
      "cell_type": "markdown",
      "metadata": {
        "id": "SwBdLwA3MHWR",
        "colab_type": "text"
      },
      "source": [
        "Finally, we mergered both output dataframes by ticker symbols:"
      ]
    },
    {
      "cell_type": "code",
      "metadata": {
        "id": "F3K8LY3xLGbK",
        "colab_type": "code",
        "colab": {
          "base_uri": "https://localhost:8080/",
          "height": 419
        },
        "outputId": "3bb887ce-92b5-462a-ad4f-627a50629d0c"
      },
      "source": [
        "output = pd.merge(capm_df, FF_df, on = \"Tic\", how = \"left\")\n",
        "output"
      ],
      "execution_count": 107,
      "outputs": [
        {
          "output_type": "execute_result",
          "data": {
            "text/html": [
              "<div>\n",
              "<style scoped>\n",
              "    .dataframe tbody tr th:only-of-type {\n",
              "        vertical-align: middle;\n",
              "    }\n",
              "\n",
              "    .dataframe tbody tr th {\n",
              "        vertical-align: top;\n",
              "    }\n",
              "\n",
              "    .dataframe thead th {\n",
              "        text-align: right;\n",
              "    }\n",
              "</style>\n",
              "<table border=\"1\" class=\"dataframe\">\n",
              "  <thead>\n",
              "    <tr style=\"text-align: right;\">\n",
              "      <th></th>\n",
              "      <th>Tic</th>\n",
              "      <th>Beta</th>\n",
              "      <th>FF_Beta</th>\n",
              "      <th>FF_s</th>\n",
              "      <th>FF_h</th>\n",
              "    </tr>\n",
              "  </thead>\n",
              "  <tbody>\n",
              "    <tr>\n",
              "      <th>0</th>\n",
              "      <td>STZ</td>\n",
              "      <td>0.787953</td>\n",
              "      <td>0.921005</td>\n",
              "      <td>-0.506456</td>\n",
              "      <td>0.093319</td>\n",
              "    </tr>\n",
              "    <tr>\n",
              "      <th>1</th>\n",
              "      <td>TAP</td>\n",
              "      <td>0.855555</td>\n",
              "      <td>1.073410</td>\n",
              "      <td>-0.832880</td>\n",
              "      <td>0.200575</td>\n",
              "    </tr>\n",
              "    <tr>\n",
              "      <th>2</th>\n",
              "      <td>LEN</td>\n",
              "      <td>1.080656</td>\n",
              "      <td>1.103541</td>\n",
              "      <td>-0.083492</td>\n",
              "      <td>-0.031640</td>\n",
              "    </tr>\n",
              "    <tr>\n",
              "      <th>3</th>\n",
              "      <td>MKC</td>\n",
              "      <td>-0.016428</td>\n",
              "      <td>0.117872</td>\n",
              "      <td>-0.466685</td>\n",
              "      <td>-0.492508</td>\n",
              "    </tr>\n",
              "    <tr>\n",
              "      <th>4</th>\n",
              "      <td>CBS</td>\n",
              "      <td>0.934880</td>\n",
              "      <td>0.899303</td>\n",
              "      <td>0.109059</td>\n",
              "      <td>0.460978</td>\n",
              "    </tr>\n",
              "    <tr>\n",
              "      <th>...</th>\n",
              "      <td>...</td>\n",
              "      <td>...</td>\n",
              "      <td>...</td>\n",
              "      <td>...</td>\n",
              "      <td>...</td>\n",
              "    </tr>\n",
              "    <tr>\n",
              "      <th>1386</th>\n",
              "      <td>GOSS</td>\n",
              "      <td>-0.025796</td>\n",
              "      <td>0.345930</td>\n",
              "      <td>5.552879</td>\n",
              "      <td>-4.655321</td>\n",
              "    </tr>\n",
              "    <tr>\n",
              "      <th>1387</th>\n",
              "      <td>ALEC</td>\n",
              "      <td>2.445290</td>\n",
              "      <td>2.433829</td>\n",
              "      <td>1.638455</td>\n",
              "      <td>-0.936939</td>\n",
              "    </tr>\n",
              "    <tr>\n",
              "      <th>1388</th>\n",
              "      <td>TCRR</td>\n",
              "      <td>0.551201</td>\n",
              "      <td>0.534820</td>\n",
              "      <td>2.378587</td>\n",
              "      <td>-1.361105</td>\n",
              "    </tr>\n",
              "    <tr>\n",
              "      <th>1389</th>\n",
              "      <td>GRSH</td>\n",
              "      <td>0.061971</td>\n",
              "      <td>0.112469</td>\n",
              "      <td>0.240085</td>\n",
              "      <td>0.782763</td>\n",
              "    </tr>\n",
              "    <tr>\n",
              "      <th>1390</th>\n",
              "      <td>CBYL</td>\n",
              "      <td>2.777947</td>\n",
              "      <td>6.712819</td>\n",
              "      <td>-8.701039</td>\n",
              "      <td>0.263994</td>\n",
              "    </tr>\n",
              "  </tbody>\n",
              "</table>\n",
              "<p>1391 rows × 5 columns</p>\n",
              "</div>"
            ],
            "text/plain": [
              "       Tic      Beta   FF_Beta      FF_s      FF_h\n",
              "0      STZ  0.787953  0.921005 -0.506456  0.093319\n",
              "1      TAP  0.855555  1.073410 -0.832880  0.200575\n",
              "2      LEN  1.080656  1.103541 -0.083492 -0.031640\n",
              "3      MKC -0.016428  0.117872 -0.466685 -0.492508\n",
              "4      CBS  0.934880  0.899303  0.109059  0.460978\n",
              "...    ...       ...       ...       ...       ...\n",
              "1386  GOSS -0.025796  0.345930  5.552879 -4.655321\n",
              "1387  ALEC  2.445290  2.433829  1.638455 -0.936939\n",
              "1388  TCRR  0.551201  0.534820  2.378587 -1.361105\n",
              "1389  GRSH  0.061971  0.112469  0.240085  0.782763\n",
              "1390  CBYL  2.777947  6.712819 -8.701039  0.263994\n",
              "\n",
              "[1391 rows x 5 columns]"
            ]
          },
          "metadata": {
            "tags": []
          },
          "execution_count": 107
        }
      ]
    },
    {
      "cell_type": "markdown",
      "metadata": {
        "id": "6QLNvhRnMfY0",
        "colab_type": "text"
      },
      "source": [
        "Then we renamed the columns:"
      ]
    },
    {
      "cell_type": "code",
      "metadata": {
        "id": "VZAHsMvsMi5X",
        "colab_type": "code",
        "colab": {}
      },
      "source": [
        "output.columns = ['Ticker', 'CAPM_Beta', 'FF-Beta', 'FF-Size', 'FF-Value']"
      ],
      "execution_count": 0,
      "outputs": []
    },
    {
      "cell_type": "markdown",
      "metadata": {
        "id": "ov5wGA-uM9QP",
        "colab_type": "text"
      },
      "source": [
        "Export the data frame into Excel files:"
      ]
    },
    {
      "cell_type": "code",
      "metadata": {
        "id": "PzA8F2qGMvKp",
        "colab_type": "code",
        "colab": {}
      },
      "source": [
        "output.to_excel(\"Assign4-Output.xlsx\")"
      ],
      "execution_count": 0,
      "outputs": []
    },
    {
      "cell_type": "markdown",
      "metadata": {
        "id": "PrNgTPrYQ6Ln",
        "colab_type": "text"
      },
      "source": [
        "# Bonus:"
      ]
    },
    {
      "cell_type": "markdown",
      "metadata": {
        "id": "Fzc1S-eERDSs",
        "colab_type": "text"
      },
      "source": [
        "In Excel, we combined the YTD-Returns from the given project spreadsheet to our output. Now we uploaded that:"
      ]
    },
    {
      "cell_type": "code",
      "metadata": {
        "id": "E6cKieNCQ_nj",
        "colab_type": "code",
        "colab": {
          "resources": {
            "http://localhost:8080/nbextensions/google.colab/files.js": {
              "data": "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",
              "ok": true,
              "headers": [
                [
                  "content-type",
                  "application/javascript"
                ]
              ],
              "status": 200,
              "status_text": ""
            }
          },
          "base_uri": "https://localhost:8080/",
          "height": 71
        },
        "outputId": "82de17ea-0d0f-44bd-c9f0-6644ea58bd62"
      },
      "source": [
        "from google.colab import files\n",
        "uploaded = files.upload()"
      ],
      "execution_count": 116,
      "outputs": [
        {
          "output_type": "display_data",
          "data": {
            "text/html": [
              "\n",
              "     <input type=\"file\" id=\"files-b2ca6330-d56d-467e-bb06-b8b6a6a73e03\" name=\"files[]\" multiple disabled />\n",
              "     <output id=\"result-b2ca6330-d56d-467e-bb06-b8b6a6a73e03\">\n",
              "      Upload widget is only available when the cell has been executed in the\n",
              "      current browser session. Please rerun this cell to enable.\n",
              "      </output>\n",
              "      <script src=\"/nbextensions/google.colab/files.js\"></script> "
            ],
            "text/plain": [
              "<IPython.core.display.HTML object>"
            ]
          },
          "metadata": {
            "tags": []
          }
        },
        {
          "output_type": "stream",
          "text": [
            "Saving Assign4-Combine.csv to Assign4-Combine.csv\n"
          ],
          "name": "stdout"
        }
      ]
    },
    {
      "cell_type": "code",
      "metadata": {
        "id": "bVsv4oqfRXOt",
        "colab_type": "code",
        "colab": {
          "base_uri": "https://localhost:8080/",
          "height": 204
        },
        "outputId": "cbe84b73-d340-485e-e40a-64c5320d1ce5"
      },
      "source": [
        "df_bonus = pd.read_csv('Assign4-Combine.csv')\n",
        "pd.DataFrame.from_records(df_bonus)\n",
        "df_bonus.head()"
      ],
      "execution_count": 118,
      "outputs": [
        {
          "output_type": "execute_result",
          "data": {
            "text/html": [
              "<div>\n",
              "<style scoped>\n",
              "    .dataframe tbody tr th:only-of-type {\n",
              "        vertical-align: middle;\n",
              "    }\n",
              "\n",
              "    .dataframe tbody tr th {\n",
              "        vertical-align: top;\n",
              "    }\n",
              "\n",
              "    .dataframe thead th {\n",
              "        text-align: right;\n",
              "    }\n",
              "</style>\n",
              "<table border=\"1\" class=\"dataframe\">\n",
              "  <thead>\n",
              "    <tr style=\"text-align: right;\">\n",
              "      <th></th>\n",
              "      <th>Unnamed: 0</th>\n",
              "      <th>Ticker</th>\n",
              "      <th>CAPM_Beta</th>\n",
              "      <th>FF-Beta</th>\n",
              "      <th>FF-Size</th>\n",
              "      <th>FF-Value</th>\n",
              "      <th>YTD_Return</th>\n",
              "    </tr>\n",
              "  </thead>\n",
              "  <tbody>\n",
              "    <tr>\n",
              "      <th>0</th>\n",
              "      <td>0</td>\n",
              "      <td>STZ</td>\n",
              "      <td>0.787953</td>\n",
              "      <td>0.921005</td>\n",
              "      <td>-0.506456</td>\n",
              "      <td>0.093319</td>\n",
              "      <td>-0.3035</td>\n",
              "    </tr>\n",
              "    <tr>\n",
              "      <th>1</th>\n",
              "      <td>1</td>\n",
              "      <td>TAP</td>\n",
              "      <td>0.855555</td>\n",
              "      <td>1.073410</td>\n",
              "      <td>-0.832880</td>\n",
              "      <td>0.200575</td>\n",
              "      <td>-0.2391</td>\n",
              "    </tr>\n",
              "    <tr>\n",
              "      <th>2</th>\n",
              "      <td>2</td>\n",
              "      <td>LEN</td>\n",
              "      <td>1.080656</td>\n",
              "      <td>1.103541</td>\n",
              "      <td>-0.083492</td>\n",
              "      <td>-0.031640</td>\n",
              "      <td>-0.4015</td>\n",
              "    </tr>\n",
              "    <tr>\n",
              "      <th>3</th>\n",
              "      <td>3</td>\n",
              "      <td>MKC</td>\n",
              "      <td>-0.016428</td>\n",
              "      <td>0.117872</td>\n",
              "      <td>-0.466685</td>\n",
              "      <td>-0.492508</td>\n",
              "      <td>-0.1346</td>\n",
              "    </tr>\n",
              "    <tr>\n",
              "      <th>4</th>\n",
              "      <td>4</td>\n",
              "      <td>CBS</td>\n",
              "      <td>0.934880</td>\n",
              "      <td>0.899303</td>\n",
              "      <td>0.109059</td>\n",
              "      <td>0.460978</td>\n",
              "      <td>-0.5451</td>\n",
              "    </tr>\n",
              "  </tbody>\n",
              "</table>\n",
              "</div>"
            ],
            "text/plain": [
              "   Unnamed: 0 Ticker  CAPM_Beta   FF-Beta   FF-Size  FF-Value  YTD_Return\n",
              "0           0    STZ   0.787953  0.921005 -0.506456  0.093319     -0.3035\n",
              "1           1    TAP   0.855555  1.073410 -0.832880  0.200575     -0.2391\n",
              "2           2    LEN   1.080656  1.103541 -0.083492 -0.031640     -0.4015\n",
              "3           3    MKC  -0.016428  0.117872 -0.466685 -0.492508     -0.1346\n",
              "4           4    CBS   0.934880  0.899303  0.109059  0.460978     -0.5451"
            ]
          },
          "metadata": {
            "tags": []
          },
          "execution_count": 118
        }
      ]
    },
    {
      "cell_type": "markdown",
      "metadata": {
        "id": "JSyBsYhnRuLR",
        "colab_type": "text"
      },
      "source": [
        "## OLS Regression:\n",
        "\n",
        "Next we ran a regression on `YTD_Return` agains other coefficients to see the correlation.\n",
        "\n",
        "First, define X and Y:"
      ]
    },
    {
      "cell_type": "code",
      "metadata": {
        "id": "lx8M9MSxRtcY",
        "colab_type": "code",
        "colab": {}
      },
      "source": [
        "X = df_bonus[['CAPM_Beta','FF-Beta', 'FF-Size', 'FF-Value']] \n",
        "Y = df_bonus['YTD_Return']"
      ],
      "execution_count": 0,
      "outputs": []
    },
    {
      "cell_type": "markdown",
      "metadata": {
        "id": "rYaKt1GAdz8U",
        "colab_type": "text"
      },
      "source": [
        "Second, fit the X and Y into a OLS regression:"
      ]
    },
    {
      "cell_type": "code",
      "metadata": {
        "id": "TGWI_eJYSrwp",
        "colab_type": "code",
        "colab": {}
      },
      "source": [
        "X = sm.add_constant(X) # adding a constant\n",
        " \n",
        "model = sm.OLS(Y, X).fit()"
      ],
      "execution_count": 0,
      "outputs": []
    },
    {
      "cell_type": "markdown",
      "metadata": {
        "id": "v_-Qz45ld77T",
        "colab_type": "text"
      },
      "source": [
        "Print out the mdoel summary:"
      ]
    },
    {
      "cell_type": "code",
      "metadata": {
        "id": "lRDBgaKuSzaK",
        "colab_type": "code",
        "colab": {
          "base_uri": "https://localhost:8080/",
          "height": 493
        },
        "outputId": "3cd3375f-4003-4efa-c1f9-6af3aedba313"
      },
      "source": [
        "print_model = model.summary()\n",
        "print(print_model)"
      ],
      "execution_count": 131,
      "outputs": [
        {
          "output_type": "stream",
          "text": [
            "                            OLS Regression Results                            \n",
            "==============================================================================\n",
            "Dep. Variable:             YTD_Return   R-squared:                       0.076\n",
            "Model:                            OLS   Adj. R-squared:                  0.073\n",
            "Method:                 Least Squares   F-statistic:                     28.49\n",
            "Date:                Sun, 12 Apr 2020   Prob (F-statistic):           8.91e-23\n",
            "Time:                        21:33:26   Log-Likelihood:                 32.057\n",
            "No. Observations:                1391   AIC:                            -54.11\n",
            "Df Residuals:                    1386   BIC:                            -27.93\n",
            "Df Model:                           4                                         \n",
            "Covariance Type:            nonrobust                                         \n",
            "==============================================================================\n",
            "                 coef    std err          t      P>|t|      [0.025      0.975]\n",
            "------------------------------------------------------------------------------\n",
            "const         -0.2522      0.012    -20.662      0.000      -0.276      -0.228\n",
            "CAPM_Beta     -0.0266      0.042     -0.639      0.523      -0.108       0.055\n",
            "FF-Beta       -0.0277      0.041     -0.682      0.496      -0.107       0.052\n",
            "FF-Size       -0.0005      0.012     -0.041      0.967      -0.024       0.023\n",
            "FF-Value      -0.0513      0.006     -8.319      0.000      -0.063      -0.039\n",
            "==============================================================================\n",
            "Omnibus:                      699.697   Durbin-Watson:                   2.006\n",
            "Prob(Omnibus):                  0.000   Jarque-Bera (JB):            11222.564\n",
            "Skew:                           1.943   Prob(JB):                         0.00\n",
            "Kurtosis:                      16.362   Cond. No.                         20.5\n",
            "==============================================================================\n",
            "\n",
            "Warnings:\n",
            "[1] Standard Errors assume that the covariance matrix of the errors is correctly specified.\n"
          ],
          "name": "stdout"
        }
      ]
    },
    {
      "cell_type": "markdown",
      "metadata": {
        "id": "GLP4MikeTUKB",
        "colab_type": "text"
      },
      "source": [
        "## Multiple Linear Rergession\n",
        "\n",
        "Then we tried the multiple regression:"
      ]
    },
    {
      "cell_type": "code",
      "metadata": {
        "id": "00fvGDGfTV2n",
        "colab_type": "code",
        "colab": {}
      },
      "source": [
        "from sklearn import linear_model\n",
        "\n",
        "lm = linear_model.LinearRegression()\n",
        "model_lm = lm.fit(X,Y)"
      ],
      "execution_count": 0,
      "outputs": []
    },
    {
      "cell_type": "markdown",
      "metadata": {
        "id": "giL5ebZpTc3T",
        "colab_type": "text"
      },
      "source": [
        "Print out the regression R-square:"
      ]
    },
    {
      "cell_type": "code",
      "metadata": {
        "id": "cj2e-BrhTb7w",
        "colab_type": "code",
        "colab": {
          "base_uri": "https://localhost:8080/",
          "height": 34
        },
        "outputId": "1e3182ed-425f-435e-91ea-b47b32e2cee6"
      },
      "source": [
        "lm.score(X,Y)"
      ],
      "execution_count": 135,
      "outputs": [
        {
          "output_type": "execute_result",
          "data": {
            "text/plain": [
              "0.07597038745803208"
            ]
          },
          "metadata": {
            "tags": []
          },
          "execution_count": 135
        }
      ]
    },
    {
      "cell_type": "markdown",
      "metadata": {
        "id": "MW3ieq7meGSn",
        "colab_type": "text"
      },
      "source": [
        "Print out the intercept:"
      ]
    },
    {
      "cell_type": "code",
      "metadata": {
        "id": "TMl8Jn75UGPS",
        "colab_type": "code",
        "colab": {
          "base_uri": "https://localhost:8080/",
          "height": 34
        },
        "outputId": "b46600bf-e7d3-470f-f8e8-a2a3d740f45c"
      },
      "source": [
        "lm.intercept_"
      ],
      "execution_count": 136,
      "outputs": [
        {
          "output_type": "execute_result",
          "data": {
            "text/plain": [
              "-0.2521566205446826"
            ]
          },
          "metadata": {
            "tags": []
          },
          "execution_count": 136
        }
      ]
    },
    {
      "cell_type": "markdown",
      "metadata": {
        "id": "r3PFDP9feITj",
        "colab_type": "text"
      },
      "source": [
        "Print out the coefficients:"
      ]
    },
    {
      "cell_type": "code",
      "metadata": {
        "id": "FDQhPTJjTiOR",
        "colab_type": "code",
        "colab": {
          "base_uri": "https://localhost:8080/",
          "height": 34
        },
        "outputId": "a568e58c-434c-496c-d938-5ad8a91e623e"
      },
      "source": [
        "lm.coef_"
      ],
      "execution_count": 134,
      "outputs": [
        {
          "output_type": "execute_result",
          "data": {
            "text/plain": [
              "array([ 0.        , -0.02661038, -0.02766072, -0.00049677, -0.05132636])"
            ]
          },
          "metadata": {
            "tags": []
          },
          "execution_count": 134
        }
      ]
    },
    {
      "cell_type": "markdown",
      "metadata": {
        "id": "SZJzXURCbJVM",
        "colab_type": "text"
      },
      "source": [
        "**Explanation:**\n",
        "\n",
        "As we know, there are 2 types of risks: Systematic risk (market risk) and Idiosyncratic risk (company specific risk). CAPM Beta and FF model factor betas represent the sensitivity of a portfolio’s returns to changes in a systematic factor. In our regressions, we got adjusted R squared of 7%, which means that only 7% of volatility of stocks' returns can be explained by factors associated with market risk. We assume that the rest 93% of variation of stocks' returns can be explained by factors related to the unsystematic or company-related risks. In most examples of company valuations, returns of each company do depend on company's capabilities and other specific factors. "
      ]
    }
  ]
}